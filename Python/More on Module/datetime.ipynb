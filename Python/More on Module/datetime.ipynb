{
 "cells": [
  {
   "cell_type": "code",
   "execution_count": 1,
   "metadata": {},
   "outputs": [
    {
     "data": {
      "text/plain": [
       "['__add__',\n",
       " '__class__',\n",
       " '__delattr__',\n",
       " '__dir__',\n",
       " '__doc__',\n",
       " '__eq__',\n",
       " '__format__',\n",
       " '__ge__',\n",
       " '__getattribute__',\n",
       " '__gt__',\n",
       " '__hash__',\n",
       " '__init__',\n",
       " '__init_subclass__',\n",
       " '__le__',\n",
       " '__lt__',\n",
       " '__ne__',\n",
       " '__new__',\n",
       " '__radd__',\n",
       " '__reduce__',\n",
       " '__reduce_ex__',\n",
       " '__repr__',\n",
       " '__rsub__',\n",
       " '__setattr__',\n",
       " '__sizeof__',\n",
       " '__str__',\n",
       " '__sub__',\n",
       " '__subclasshook__',\n",
       " 'astimezone',\n",
       " 'combine',\n",
       " 'ctime',\n",
       " 'date',\n",
       " 'day',\n",
       " 'dst',\n",
       " 'fold',\n",
       " 'fromisocalendar',\n",
       " 'fromisoformat',\n",
       " 'fromordinal',\n",
       " 'fromtimestamp',\n",
       " 'hour',\n",
       " 'isocalendar',\n",
       " 'isoformat',\n",
       " 'isoweekday',\n",
       " 'max',\n",
       " 'microsecond',\n",
       " 'min',\n",
       " 'minute',\n",
       " 'month',\n",
       " 'now',\n",
       " 'replace',\n",
       " 'resolution',\n",
       " 'second',\n",
       " 'strftime',\n",
       " 'strptime',\n",
       " 'time',\n",
       " 'timestamp',\n",
       " 'timetuple',\n",
       " 'timetz',\n",
       " 'today',\n",
       " 'toordinal',\n",
       " 'tzinfo',\n",
       " 'tzname',\n",
       " 'utcfromtimestamp',\n",
       " 'utcnow',\n",
       " 'utcoffset',\n",
       " 'utctimetuple',\n",
       " 'weekday',\n",
       " 'year']"
      ]
     },
     "execution_count": 1,
     "metadata": {},
     "output_type": "execute_result"
    }
   ],
   "source": [
    "from datetime import datetime\n",
    "dir(datetime)"
   ]
  },
  {
   "cell_type": "code",
   "execution_count": 4,
   "metadata": {},
   "outputs": [
    {
     "name": "stdout",
     "output_type": "stream",
     "text": [
      "2022-07-01 22:55:17.094785\n",
      "2022\n",
      "7\n",
      "1\n",
      "55\n",
      "17\n",
      "94785\n"
     ]
    }
   ],
   "source": [
    "şu_an = datetime.now()\n",
    "print(şu_an)\n",
    "print(şu_an.year)\n",
    "print(şu_an.month)\n",
    "print(şu_an.day)\n",
    "print(şu_an.minute)\n",
    "print(şu_an.second)\n",
    "print(şu_an.microsecond) "
   ]
  },
  {
   "cell_type": "code",
   "execution_count": 6,
   "metadata": {},
   "outputs": [
    {
     "name": "stdout",
     "output_type": "stream",
     "text": [
      "Fri Jul  1 22:55:17 2022\n"
     ]
    }
   ],
   "source": [
    "print(datetime.ctime(şu_an))\n",
    "# ctime() daha güzel yazan bir fonksiyon"
   ]
  },
  {
   "cell_type": "code",
   "execution_count": 12,
   "metadata": {},
   "outputs": [
    {
     "name": "stdout",
     "output_type": "stream",
     "text": [
      "2022\n",
      "July\n",
      "Friday\n",
      "22:59:28\n",
      "07/01/22\n"
     ]
    }
   ],
   "source": [
    "şu_an = datetime.now()\n",
    "print(datetime.strftime(şu_an,\"%Y\"))\n",
    "print(datetime.strftime(şu_an,\"%B\"))\n",
    "\n",
    "print(datetime.strftime(şu_an,\"%A\"))\n",
    "\n",
    "print(datetime.strftime(şu_an,\"%X\"))\n",
    "\n",
    "print(datetime.strftime(şu_an,\"%D\"))\n",
    "\n"
   ]
  },
  {
   "cell_type": "markdown",
   "metadata": {},
   "source": [
    "strftime() fonksiyonu\n",
    "    Yıl bilgisini almak için : %Y\n",
    "\n",
    "    Ay ismini almak için : %B\n",
    "\n",
    "    Gün ismini almak için : %A\n",
    "\n",
    "    Saat bilgisini almak için : %X\n",
    "\n",
    "    Gün bilgisini almak için : %D"
   ]
  },
  {
   "cell_type": "code",
   "execution_count": 13,
   "metadata": {},
   "outputs": [
    {
     "name": "stdout",
     "output_type": "stream",
     "text": [
      "Turkish_Turkey.1254\n"
     ]
    }
   ],
   "source": [
    "import locale\n",
    "print(locale.setlocale(locale.LC_ALL,\"\"))"
   ]
  },
  {
   "cell_type": "code",
   "execution_count": 14,
   "metadata": {},
   "outputs": [
    {
     "name": "stdout",
     "output_type": "stream",
     "text": [
      "2022 Temmuz Cuma\n"
     ]
    }
   ],
   "source": [
    "print(datetime.strftime(şu_an,\"%Y %B %A\")) # locale ile bulunduğumuz yerin diline çevirebiliyoruz."
   ]
  },
  {
   "cell_type": "code",
   "execution_count": null,
   "metadata": {},
   "outputs": [],
   "source": []
  }
 ],
 "metadata": {
  "kernelspec": {
   "display_name": "Python 3.10.5 64-bit",
   "language": "python",
   "name": "python3"
  },
  "language_info": {
   "codemirror_mode": {
    "name": "ipython",
    "version": 3
   },
   "file_extension": ".py",
   "mimetype": "text/x-python",
   "name": "python",
   "nbconvert_exporter": "python",
   "pygments_lexer": "ipython3",
   "version": "3.10.5"
  },
  "orig_nbformat": 4,
  "vscode": {
   "interpreter": {
    "hash": "bca009232a060e6f9a4ada0b7f6575ed27685226172d06dbefa8cfd5d3793e55"
   }
  }
 },
 "nbformat": 4,
 "nbformat_minor": 2
}
