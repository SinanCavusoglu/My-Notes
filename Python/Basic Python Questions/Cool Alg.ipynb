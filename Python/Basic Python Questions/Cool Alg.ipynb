{
 "cells": [
  {
   "cell_type": "markdown",
   "metadata": {},
   "source": [
    "# Example2: Prime Factor List"
   ]
  },
  {
   "cell_type": "code",
   "execution_count": 1,
   "metadata": {},
   "outputs": [
    {
     "name": "stdout",
     "output_type": "stream",
     "text": [
      "40040\n",
      "[2, 5, 7, 11, 13]\n"
     ]
    }
   ],
   "source": [
    "n = int(input())\n",
    "p = 2\n",
    "pri_factors = []\n",
    "while p**2 <= n: # Largest prime factors always less than sqrt(n) \n",
    "    while n>0 and n%p == 0:\n",
    "        if not p in pri_factors:\n",
    "            pri_factors.append(p)\n",
    "        n = n // p\n",
    "    p += 1\n",
    "if not n in pri_factors:\n",
    "    pri_factors.append(n)\n",
    "print(pri_factors)\n",
    "    "
   ]
  },
  {
   "cell_type": "markdown",
   "metadata": {},
   "source": [
    "# Example3: Prime Number"
   ]
  },
  {
   "cell_type": "code",
   "execution_count": 13,
   "metadata": {},
   "outputs": [
    {
     "name": "stdout",
     "output_type": "stream",
     "text": [
      "29\n",
      "Prime\n"
     ]
    }
   ],
   "source": [
    "num = int(input())\n",
    "list1 = range(2,int(num/2))\n",
    "control = False\n",
    "for i in range(2,int(num/2)):\n",
    "    if num%i == 0:\n",
    "        control = True\n",
    "        break\n",
    "print(\"Prime\" if control == False else \"Not Prime\")"
   ]
  },
  {
   "cell_type": "markdown",
   "metadata": {},
   "source": [
    "# Example4: Euclidean Algorithm"
   ]
  },
  {
   "cell_type": "code",
   "execution_count": 21,
   "metadata": {},
   "outputs": [
    {
     "name": "stdout",
     "output_type": "stream",
     "text": [
      "87\n",
      "57\n",
      "3\n"
     ]
    }
   ],
   "source": [
    "a = int(input())\n",
    "b = int(input())\n",
    "\n",
    "while True:\n",
    "    if a % b == 0:\n",
    "        print(b)\n",
    "        break\n",
    "    q1 = a//b\n",
    "    r1 = a%b\n",
    "    a = b\n",
    "    b = r1"
   ]
  },
  {
   "cell_type": "code",
   "execution_count": null,
   "metadata": {},
   "outputs": [],
   "source": []
  }
 ],
 "metadata": {
  "kernelspec": {
   "display_name": "Python 3",
   "language": "python",
   "name": "python3"
  },
  "language_info": {
   "codemirror_mode": {
    "name": "ipython",
    "version": 3
   },
   "file_extension": ".py",
   "mimetype": "text/x-python",
   "name": "python",
   "nbconvert_exporter": "python",
   "pygments_lexer": "ipython3",
   "version": "3.8.5"
  }
 },
 "nbformat": 4,
 "nbformat_minor": 4
}
