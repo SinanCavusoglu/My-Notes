{
 "cells": [
  {
   "cell_type": "code",
   "execution_count": 18,
   "metadata": {},
   "outputs": [],
   "source": [
    "\"\"\"\n",
    "Q1)\n",
    "2.5. Winner Team in Board Game 2\n",
    "In a 2D board ( NxN ) game played by two teams (red and blue),\n",
    "teams select cells in turns, \n",
    "and each cell gives some random points to team player in it. \n",
    "After the game is over, \n",
    "the result is given in a matrix where the negative and positive \n",
    "values indicate \n",
    "the cells are occupied by the red and the blue team respectively.\n",
    "Write a program which outputs the points gathered by the red team.\n",
    "N  can be any positive number that is greater than or equal to 3.\n",
    "\n",
    "It is guaranteed that every cell in the board has positive or \n",
    "negative value \n",
    "at the end of the game (i.e. no zero value).\n",
    "\n",
    "Assume that the list of lists of integers representing \n",
    "the resulting board will be given to you as the variable  B .\n",
    "\n",
    "Sample I/O:\n",
    "Input:\n",
    "B = [[3, 4, 4], [2, -5, -2], [-4, 2, -4]]\n",
    "Output:\n",
    "15\n",
    "Input:\n",
    "B = [[-3, -2, -1, -4], [4, -2, 4, 5], [-2, -1, -2, 5], [3, 1, 4, -1]]\n",
    "Output:\n",
    "18\n",
    "Input:\n",
    "B = [[-3, -3, 1, -4, 2], [4, -3, -5, 2, 1], [4, 2, 2, 1, 3], [-1, -5, -3, 5, -4], [-3, -3, 5, -2, -3]]\n",
    "Output:\n",
    "42\n",
    "\"\"\";"
   ]
  },
  {
   "cell_type": "code",
   "execution_count": 9,
   "metadata": {},
   "outputs": [
    {
     "data": {
      "text/plain": [
       "42"
      ]
     },
     "execution_count": 9,
     "metadata": {},
     "output_type": "execute_result"
    }
   ],
   "source": [
    "liste = eval(input())\n",
    "def board_game(liste):\n",
    "    total = 0\n",
    "    for index in liste:\n",
    "        for j in index:\n",
    "            if j < 0:\n",
    "                total += j\n",
    "    return -total\n",
    "board_game(liste)"
   ]
  },
  {
   "cell_type": "code",
   "execution_count": 10,
   "metadata": {},
   "outputs": [],
   "source": [
    "\"\"\"\n",
    "Q2)\n",
    "2.6. Apple Tree Garden 2\n",
    "Imagine a garden of apple trees in the harvest time. Assuming the trees are planted in a regular way,\n",
    "in  M  rows each of which has  N  trees. Each tree has a different apple count. \n",
    "These count of apples can be represented as a matrix of  M×N . \n",
    "There are  M  workers each responsible of collecting the apples in a horizontal row.\n",
    "\n",
    "Write a script to find out the row which will procude \n",
    "the highest count of apple and print that row.\n",
    "\n",
    "M  and  N  are two positive integers.\n",
    "\n",
    "Assume that the matrix, namely the ‘list of lists of integers’,\n",
    "representing the apple counts will be given to you in a variable  G .\n",
    "\n",
    "Sample I/O:\n",
    "\n",
    "Input:\n",
    "[[30,40,20,50],[60,20,40,10],[50,30,70,60],[30,40,40,20]]\n",
    "\n",
    "Output:\n",
    "[50,30,70,60]\n",
    "\n",
    "\n",
    "Input:\n",
    "[[20,10,20,30,80,80,50,80,40,40],[20,10,50,10,20,90,90,20,60,20],[50,50,90,10,60,30,60,20,40,60],[20,80,60,80,90,20,20,60,80,30],[10,30,50,60,20,10,90,50,80,70]]\n",
    "\n",
    "Output:\n",
    "[20, 80, 60, 80, 90, 20, 20, 60, 80, 30]\n",
    "\n",
    "\n",
    "\"\"\";"
   ]
  },
  {
   "cell_type": "code",
   "execution_count": 17,
   "metadata": {},
   "outputs": [
    {
     "data": {
      "text/plain": [
       "[20, 80, 60, 80, 90, 20, 20, 60, 80, 30]"
      ]
     },
     "execution_count": 17,
     "metadata": {},
     "output_type": "execute_result"
    }
   ],
   "source": [
    "liste = eval(input())\n",
    "def apple_tree_garden(liste):\n",
    "    total = sum(liste[0])\n",
    "    list1 = liste[0]\n",
    "    for i in liste:\n",
    "        if total < sum(i):\n",
    "            total = sum(i)\n",
    "            list1 = i\n",
    "    return list1\n",
    "apple_tree_garden(liste)"
   ]
  },
  {
   "cell_type": "code",
   "execution_count": 19,
   "metadata": {},
   "outputs": [],
   "source": [
    "\"\"\"\n",
    "Q3) \n",
    "2.8. Repeated Strings 2\n",
    "In this question it is asked to determine whether \n",
    "the first half of a string is exactly the same of its second half. \n",
    "If the string is not halvable (i.e. has odd number of elements) \n",
    "then and error message has to be printed.\n",
    "\n",
    "For example, “abab” is such a string. \n",
    "When it is divided into two equal parts, the parts are “ab” and “ab” \n",
    "and these are the same. On the other hand, \n",
    "“abba” is not such a string, because the two halves are “ab” and “ba” \n",
    "and they are not the same. \n",
    "If the input string is such a ‘repeated string’, you should print “Yes”,\n",
    "otherwise, you should print “No”. \n",
    "If the length of the string is odd then print “Error”.\n",
    "Sample I/O:\n",
    "\n",
    "Input:\n",
    "abaaba\n",
    "\n",
    "Output:\n",
    "Yes\n",
    "\n",
    "Input:\n",
    "abbbba\n",
    "\n",
    "Output:\n",
    "No\n",
    "\n",
    "Input:\n",
    "a\n",
    "\n",
    "Output:\n",
    "Error\n",
    "\n",
    "Input:\n",
    "aba\n",
    "\n",
    "Output:\n",
    "Error\n",
    "\"\"\";"
   ]
  },
  {
   "cell_type": "code",
   "execution_count": 30,
   "metadata": {},
   "outputs": [
    {
     "data": {
      "text/plain": [
       "True"
      ]
     },
     "execution_count": 30,
     "metadata": {},
     "output_type": "execute_result"
    }
   ],
   "source": [
    "\n",
    "def repeated_strings(string):\n",
    "    \n",
    "    if len(string) % 2 == 1:\n",
    "        return \"Error\"\n",
    "    else:\n",
    "        if string[0:(len(string)//2)] == string[(len(string))//2:]:\n",
    "            return True\n",
    "        else:\n",
    "            return False\n",
    "            \n",
    "repeated_strings(\"abcabc\")"
   ]
  },
  {
   "cell_type": "code",
   "execution_count": 31,
   "metadata": {},
   "outputs": [],
   "source": [
    "\"\"\"\n",
    "Q4)\n",
    "It’s Office Olympics time! Jim is trying to find the medalists by \n",
    "finding the three people that have the highest scores. \n",
    "Can you help him find the three people who have the most wins?\n",
    "\n",
    "Write a program that takes a list of 2-tuples which consists of \n",
    "a string and an integer representing the name of people \n",
    "and their score and prints a list of 3 strings which are\n",
    "the names of 3 winners. \n",
    "You can assume that there are always at least three contestants\n",
    "in the Olympics.\n",
    "\n",
    "Sample I/O:\n",
    "\n",
    "Input:\n",
    "wins_list = [(\"jim\", 11), (\"pam\", 9), (\"dwight\", 12), (\"oscar\", 2), (\"micheal\", 17), (\"angela\", 3), (\"kevin\", 1)]\n",
    "\n",
    "Output:\n",
    "[\"micheal\", \"dwight\", \"jim\"]\n",
    "\n",
    "Input:\n",
    "B = [(\"jim\", 1), (\"pam\", 4), (\"jan\", 10), (\"creed\", 7), (\"micheal\", 5), (\"meredith\", 2), (\"phyllis\", 28)]\n",
    "\n",
    "Output:\n",
    "\n",
    "[\"phyllis\", \"jan\", \"creed\"]\n",
    "\"\"\";"
   ]
  },
  {
   "cell_type": "code",
   "execution_count": 34,
   "metadata": {},
   "outputs": [
    {
     "data": {
      "text/plain": [
       "['micheal', 'dwight', 'jim']"
      ]
     },
     "execution_count": 34,
     "metadata": {},
     "output_type": "execute_result"
    }
   ],
   "source": [
    "def wins_list(liste):\n",
    "    list1 = list()\n",
    "    for i,j in liste:\n",
    "        list1.append((j,i))\n",
    "    list1.sort(reverse = True)\n",
    "    list2 = list()\n",
    "    for i in range(3):\n",
    "        list2.append(list1[i][1])\n",
    "    return list2\n",
    "wins_list([(\"jim\", 11), (\"pam\", 9), (\"dwight\", 12), (\"oscar\", 2), (\"micheal\", 17), (\"angela\", 3), (\"kevin\", 1)])"
   ]
  },
  {
   "cell_type": "code",
   "execution_count": 35,
   "metadata": {},
   "outputs": [],
   "source": [
    "\"\"\"\n",
    "Q5)\n",
    "2.14. Run-length Encoding 2\n",
    "Run-length encoding is a fast and simple method of encoding strings.\n",
    "The basic idea is to represent repeated successive characters \n",
    "as a single count and the character.\n",
    "For example, the string “AAAABBBCCDAA” would be encoded \n",
    "as “4A3B2C1D2A”.\n",
    "\n",
    "Write a program to run-length encode a given string and print the result. \n",
    "The input string will have no digits and has only \n",
    "uppercase alphabetic characters.\n",
    "\n",
    "Sample I/O:\n",
    "\n",
    "Input:\n",
    "AAAABBBCCDAA\n",
    "\n",
    "Output:\n",
    "4A3B2C1D2A\n",
    "\n",
    "Input:\n",
    "AABBA\n",
    "\n",
    "Output:\n",
    "2A2B1A\n",
    "\"\"\";"
   ]
  },
  {
   "cell_type": "code",
   "execution_count": 40,
   "metadata": {},
   "outputs": [
    {
     "data": {
      "text/plain": [
       "'4A3B2C1D2A'"
      ]
     },
     "execution_count": 40,
     "metadata": {},
     "output_type": "execute_result"
    }
   ],
   "source": [
    "def run_length_encoding(string):\n",
    "    first = string[0]\n",
    "    total = 0\n",
    "    last_string = \"\" \n",
    "    for i in string:\n",
    "        if i == first:\n",
    "            total += 1\n",
    "        else:\n",
    "            last_string += str(total)\n",
    "            last_string += first\n",
    "            first = i\n",
    "            total = 1\n",
    "    last_string += str(total)\n",
    "    last_string += first\n",
    "    return last_string\n",
    "run_length_encoding(\"AAAABBBCCDAA\")\n",
    "            "
   ]
  },
  {
   "cell_type": "code",
   "execution_count": 31,
   "metadata": {},
   "outputs": [],
   "source": [
    "\"\"\"\n",
    "Ex4)\n",
    "Write a function named sampled_average that takes a list of integers and an integer as a target average. \n",
    "This function return “yes” if we can remove a single element from the given list so that the average of the remaining \n",
    "is equal to target average, prints “no” otherwise.\n",
    "\n",
    "Sample I/O:\n",
    "\n",
    "Sample input and output:\n",
    "\n",
    ">>> sampled_average([1,2,3,10], 2)\n",
    "'yes'\n",
    "\n",
    ">>> sampled_average([1,3], 2)\n",
    "'no'\n",
    "\"\"\";\n"
   ]
  },
  {
   "cell_type": "code",
   "execution_count": 39,
   "metadata": {},
   "outputs": [
    {
     "data": {
      "text/plain": [
       "True"
      ]
     },
     "execution_count": 39,
     "metadata": {},
     "output_type": "execute_result"
    }
   ],
   "source": [
    "def sampled_average(liste,number):\n",
    "    for i in range(len(liste)):\n",
    "        x = liste[i]\n",
    "        liste.remove(x)\n",
    "        if sum(liste)/len(liste) == number:\n",
    "            return True\n",
    "        \n",
    "        liste.insert(i,x)\n",
    "    return False\n",
    "sampled_average([1,2,3,10], 2)"
   ]
  },
  {
   "cell_type": "code",
   "execution_count": 2,
   "metadata": {},
   "outputs": [],
   "source": [
    "\"\"\"\n",
    "Ex8)\n",
    "You are a warrior who is given a difficult quest to complete. In this journey, you encounter various types of troubles \n",
    "including monsters. You have to fight them off to continue and you want to see how much the next attack will hurt you.\n",
    "\n",
    "Write a function called health_bar to show your current health status. This function takes 3 integers: (1) your base \n",
    "health, (2) your current health and (3) the damage you take. The function returns your current health status as \n",
    "a string with “X”s (remaining health) and “_”s (missing health). Here are some accompanying specifications:\n",
    "\n",
    "Your base health and the damage you take will always be a positive integer.\n",
    "\n",
    "The damage you take can be more than your current health.\n",
    "\n",
    "The length of your health bar string must match your base health.\n",
    "\n",
    "Consider the following case: If your base health is 9 and your current health is 7 when you take 3 damage, \n",
    "your current health bar becomes “XXXX_____”.\n",
    "\n",
    "Hint: You can use string repetition.\n",
    "\n",
    "Sample I/O:\n",
    "\n",
    ">>> health_bar(11, 11, 4)\n",
    "'XXXXXXX____'\n",
    "\n",
    ">>> health_bar(8, 2, 6)\n",
    "'________'\n",
    "\n",
    "\"\"\";\n",
    "\n"
   ]
  },
  {
   "cell_type": "code",
   "execution_count": 20,
   "metadata": {},
   "outputs": [
    {
     "data": {
      "text/plain": [
       "'XXXXXXX____'"
      ]
     },
     "execution_count": 20,
     "metadata": {},
     "output_type": "execute_result"
    }
   ],
   "source": [
    "def health_bar(base_health,curr_health,damage):\n",
    "    string = \"\"\n",
    "    if curr_health < damage:\n",
    "        print(\"_\"*base_health)\n",
    "    else:\n",
    "        X = \"X\"*(curr_health-damage)\n",
    "        ciz = \"_\"*(base_health-curr_health+damage)\n",
    "        string += X\n",
    "        string += ciz\n",
    "    return string\n",
    "health_bar(11, 11, 4)"
   ]
  },
  {
   "cell_type": "code",
   "execution_count": 3,
   "metadata": {},
   "outputs": [],
   "source": [
    "\"\"\"\n",
    "Ex9)\n",
    "A palindrome is a piece of text which can be read as the same backwards and forward. For example, \n",
    "“onino” is a palindrom whereas “onion” is not. Your task is to write a function called is_palindrome that \n",
    "takes a string and returns True if the given string is palindrome and False otherwise.\n",
    "\n",
    "Hint: Use recursion.\n",
    "\n",
    "Sample I/O:\n",
    "\n",
    ">>> is_palindrome(\"ilsa\")\n",
    "False\n",
    "\n",
    ">>> is_palindrome(\"dammitimmad\")\n",
    "True\n",
    "\"\"\";\n"
   ]
  },
  {
   "cell_type": "code",
   "execution_count": 19,
   "metadata": {},
   "outputs": [
    {
     "data": {
      "text/plain": [
       "False"
      ]
     },
     "execution_count": 19,
     "metadata": {},
     "output_type": "execute_result"
    }
   ],
   "source": [
    "def is_palindrome(string):\n",
    "    if string == string[::-1]:\n",
    "        return True\n",
    "    else:\n",
    "        return False\n",
    "is_palindrome(\"onion\")\n"
   ]
  },
  {
   "cell_type": "code",
   "execution_count": 4,
   "metadata": {},
   "outputs": [],
   "source": [
    "\"\"\"\n",
    "Ex11)\n",
    "Write a function named reduce_number that takes an integer and reduces the number by taking the sum of the digits. \n",
    "If the summation has more than one digit, the reduction is applied again. This continues until the result \n",
    "is a single digit number. The function must return the reduced number as a one-digit integer.\n",
    "\n",
    "For example, if we call the reduce_number function with 325565 as argument, then the number is reduced to 26 first.\n",
    "Since 26 is a two-digit number, then we reduce it again and we get 8 as the final result.\n",
    "\n",
    "Hint: You can define a helper function to calculate the sum of a number’s digits.\n",
    "\n",
    "Sample I/O:\n",
    "\n",
    "Input:\n",
    ">>> reduce_number(589564123)\n",
    "7\n",
    "\n",
    ">>> reduce_number(19999999999999)\n",
    "1\n",
    "\"\"\";"
   ]
  },
  {
   "cell_type": "code",
   "execution_count": 13,
   "metadata": {},
   "outputs": [
    {
     "data": {
      "text/plain": [
       "7"
      ]
     },
     "execution_count": 13,
     "metadata": {},
     "output_type": "execute_result"
    }
   ],
   "source": [
    "def reduce_number(number):\n",
    "    str_number = str(number)\n",
    "    total = 0\n",
    "    for i in str_number:\n",
    "        total += int(i)\n",
    "    return total % 9\n",
    "reduce_number(589564123)\n",
    "    "
   ]
  },
  {
   "cell_type": "code",
   "execution_count": 1,
   "metadata": {},
   "outputs": [],
   "source": [
    "\"\"\"\n",
    "s = 'abaacdaa12aa2'\n",
    "print(find_all_indexes(s, 'a'))\n",
    "print(find_all_indexes(s, 'aa'))\n",
    "\"\"\";"
   ]
  },
  {
   "cell_type": "code",
   "execution_count": null,
   "metadata": {},
   "outputs": [],
   "source": [
    "def find_all_indexes(string,sub_string):\n",
    "    "
   ]
  }
 ],
 "metadata": {
  "kernelspec": {
   "display_name": "Python 3.10.5 64-bit",
   "language": "python",
   "name": "python3"
  },
  "language_info": {
   "codemirror_mode": {
    "name": "ipython",
    "version": 3
   },
   "file_extension": ".py",
   "mimetype": "text/x-python",
   "name": "python",
   "nbconvert_exporter": "python",
   "pygments_lexer": "ipython3",
   "version": "3.10.5"
  },
  "orig_nbformat": 4,
  "vscode": {
   "interpreter": {
    "hash": "bca009232a060e6f9a4ada0b7f6575ed27685226172d06dbefa8cfd5d3793e55"
   }
  }
 },
 "nbformat": 4,
 "nbformat_minor": 2
}
