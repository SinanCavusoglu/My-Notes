{
 "cells": [
  {
   "cell_type": "code",
   "execution_count": 1,
   "metadata": {},
   "outputs": [
    {
     "name": "stdout",
     "output_type": "stream",
     "text": [
      "([1, 2, 3], 1, 2, 4, 5)\n",
      "[1, 2, 3]\n",
      "1\n",
      "2\n",
      "4\n",
      "5\n"
     ]
    }
   ],
   "source": [
    "# *args\n",
    "# Sınırsız sayıda parametreli fonksiyon oluşturmak \n",
    "# için parametremizin önüne tek yıldız (*) koyabiliriz.\n",
    "\n",
    "# Burada, fonksiyon parametresinden önce tek yıldız(*) \n",
    "# kullandığımız için sonucumuz tuple olarak döner.\n",
    "def fonksiyon(*args):\n",
    "    print(args)\n",
    "    for i in args:\n",
    "        print(i)\n",
    "\n",
    "fonksiyon([1,2,3],1,2,4,5)"
   ]
  },
  {
   "cell_type": "code",
   "execution_count": 3,
   "metadata": {},
   "outputs": [
    {
     "name": "stdout",
     "output_type": "stream",
     "text": [
      "İsim: Sinan\n",
      "(1, 2, 3, {'S': 3, 'F': 1}, (1, 2, 3), [1, 'Ali'])\n"
     ]
    }
   ],
   "source": [
    "def fonksiyon2(isim,*args):\n",
    "    print(\"İsim:\",isim)\n",
    "    print(args)\n",
    "\n",
    "fonksiyon2(\"Sinan\",1,2,3,{\"S\":3,\"F\":1},(1,2,3),[1,\"Ali\"])"
   ]
  },
  {
   "cell_type": "code",
   "execution_count": 4,
   "metadata": {},
   "outputs": [
    {
     "name": "stdout",
     "output_type": "stream",
     "text": [
      "{'Sinan': 1, 'Mustafa': 2, 'Efe': 3}\n"
     ]
    }
   ],
   "source": [
    "def fonksiyon3(**kwargs):\n",
    "    print(kwargs)\n",
    "fonksiyon3(Sinan = 1, Mustafa = 2, Efe = 3)\n",
    "\n",
    "# Burada, fonksiyon parametresinden önce çift yıldız(**) kullandığımız\n",
    "#   için sonucumuz sözlük (dictionary) olarak döner."
   ]
  },
  {
   "cell_type": "code",
   "execution_count": 2,
   "metadata": {},
   "outputs": [
    {
     "name": "stdout",
     "output_type": "stream",
     "text": [
      "Argümanlar: 1\n",
      "Argümanlar: 2\n",
      "Argümanlar: 3\n",
      "Argümanlar: 4\n",
      "Argümanlar: 5\n",
      "Argümanlar: 6\n",
      "Argümanlar: 7\n",
      "------------------------------\n",
      "Argüman İsmi: isim Argüman Değeri: Murat\n",
      "Argüman İsmi: soyisim Argüman Değeri: Coşkun\n",
      "Argüman İsmi: numara Argüman Değeri: 12345\n"
     ]
    }
   ],
   "source": [
    "def fonksiyon4(*args,**kwargs):\n",
    "    for i in args:\n",
    "        print(\"Argümanlar:\",i)\n",
    "    print(\"------------------------------\")\n",
    "    for i ,j in kwargs.items():\n",
    "        print(\"Argüman İsmi:\",i,\"Argüman Değeri:\",j)\n",
    "\n",
    "fonksiyon4(1,2,3,4,5,6,7,isim = \"Murat\",soyisim = \"Coşkun\", numara = 12345)"
   ]
  }
 ],
 "metadata": {
  "kernelspec": {
   "display_name": "Python 3.10.5 64-bit",
   "language": "python",
   "name": "python3"
  },
  "language_info": {
   "codemirror_mode": {
    "name": "ipython",
    "version": 3
   },
   "file_extension": ".py",
   "mimetype": "text/x-python",
   "name": "python",
   "nbconvert_exporter": "python",
   "pygments_lexer": "ipython3",
   "version": "3.10.5"
  },
  "orig_nbformat": 4,
  "vscode": {
   "interpreter": {
    "hash": "bca009232a060e6f9a4ada0b7f6575ed27685226172d06dbefa8cfd5d3793e55"
   }
  }
 },
 "nbformat": 4,
 "nbformat_minor": 2
}
