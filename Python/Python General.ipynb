{
 "cells": [
  {
   "cell_type": "markdown",
   "metadata": {},
   "source": [
    "## Introspection"
   ]
  },
  {
   "cell_type": "code",
   "execution_count": 73,
   "metadata": {},
   "outputs": [
    {
     "name": "stdout",
     "output_type": "stream",
     "text": [
      "\u001b[1;31mType:\u001b[0m        tuple\n",
      "\u001b[1;31mString form:\u001b[0m (1, 2, 3)\n",
      "\u001b[1;31mLength:\u001b[0m      3\n",
      "\u001b[1;31mDocstring:\u001b[0m  \n",
      "Built-in immutable sequence.\n",
      "\n",
      "If no argument is given, the constructor returns an empty tuple.\n",
      "If iterable is specified the tuple is initialized from iterable's items.\n",
      "\n",
      "If the argument is a tuple, the return value is the same object.\n"
     ]
    }
   ],
   "source": [
    "b = (1,2,3)\n",
    "b?"
   ]
  },
  {
   "cell_type": "code",
   "execution_count": 72,
   "metadata": {},
   "outputs": [
    {
     "name": "stdout",
     "output_type": "stream",
     "text": [
      "\u001b[1;31mInit signature:\u001b[0m \u001b[0mlist\u001b[0m\u001b[1;33m(\u001b[0m\u001b[0miterable\u001b[0m\u001b[1;33m=\u001b[0m\u001b[1;33m(\u001b[0m\u001b[1;33m)\u001b[0m\u001b[1;33m,\u001b[0m \u001b[1;33m/\u001b[0m\u001b[1;33m)\u001b[0m\u001b[1;33m\u001b[0m\u001b[1;33m\u001b[0m\u001b[0m\n",
      "\u001b[1;31mDocstring:\u001b[0m     \n",
      "Built-in mutable sequence.\n",
      "\n",
      "If no argument is given, the constructor creates a new empty list.\n",
      "The argument must be an iterable if specified.\n",
      "\u001b[1;31mType:\u001b[0m           type\n",
      "\u001b[1;31mSubclasses:\u001b[0m     _HashedSeq, StackSummary, DeferredConfigList, _ymd, SList, _ImmutableLineList, FormattedText, NodeList, _ExplodedList, Stack, ...\n"
     ]
    }
   ],
   "source": [
    "list?"
   ]
  },
  {
   "cell_type": "code",
   "execution_count": 79,
   "metadata": {},
   "outputs": [
    {
     "name": "stdout",
     "output_type": "stream",
     "text": [
      "\u001b[1;31mSignature:\u001b[0m \u001b[0mfunc1\u001b[0m\u001b[1;33m(\u001b[0m\u001b[1;33m)\u001b[0m\u001b[1;33m\u001b[0m\u001b[1;33m\u001b[0m\u001b[0m\n",
      "\u001b[1;31mDocstring:\u001b[0m <no docstring>\n",
      "\u001b[1;31mSource:\u001b[0m   \n",
      "\u001b[1;32mdef\u001b[0m \u001b[0mfunc1\u001b[0m\u001b[1;33m(\u001b[0m\u001b[1;33m)\u001b[0m\u001b[1;33m:\u001b[0m\u001b[1;33m\n",
      "\u001b[0m    \u001b[0mprint\u001b[0m\u001b[1;33m(\u001b[0m\u001b[1;34m\"Hello World\"\u001b[0m\u001b[1;33m)\u001b[0m\u001b[1;33m\u001b[0m\u001b[1;33m\u001b[0m\u001b[0m\n",
      "\u001b[1;31mFile:\u001b[0m      c:\\users\\snnfb\\appdata\\local\\temp\\ipykernel_10176\\1004796363.py\n",
      "\u001b[1;31mType:\u001b[0m      function\n"
     ]
    }
   ],
   "source": [
    "def func1():\n",
    "    print(\"Hello World\")\n",
    "func1??\n"
   ]
  },
  {
   "cell_type": "markdown",
   "metadata": {},
   "source": [
    "### Escape Sequence \n",
    "```python\n",
    "\\n --- new line\n",
    "\\t --- tab\n",
    "``` \n",
    "is important ones, work in print"
   ]
  },
  {
   "cell_type": "code",
   "execution_count": 1,
   "metadata": {},
   "outputs": [
    {
     "name": "stdout",
     "output_type": "stream",
     "text": [
      "Sinan\n",
      "Çavuşoğlu\n"
     ]
    }
   ],
   "source": [
    "print(\"Sinan\\nÇavuşoğlu\")"
   ]
  },
  {
   "cell_type": "markdown",
   "metadata": {},
   "source": [
    "### print() parameter\n",
    "1) sep = \" \""
   ]
  },
  {
   "cell_type": "code",
   "execution_count": 3,
   "metadata": {},
   "outputs": [
    {
     "name": "stdout",
     "output_type": "stream",
     "text": [
      "Sinan-Çavuşoğlu\n",
      "T.C\n"
     ]
    }
   ],
   "source": [
    "print(\"Sinan\",\"Çavuşoğlu\",sep = \"-\")\n",
    "print(\"T\",\"C\",sep = \".\")"
   ]
  },
  {
   "cell_type": "markdown",
   "metadata": {},
   "source": [
    "2) end = \" \""
   ]
  },
  {
   "cell_type": "code",
   "execution_count": 4,
   "metadata": {},
   "outputs": [
    {
     "name": "stdout",
     "output_type": "stream",
     "text": [
      "İsin Soyad?"
     ]
    }
   ],
   "source": [
    "print(\"İsin\",\"Soyad\",end = \"?\")"
   ]
  },
  {
   "cell_type": "markdown",
   "metadata": {},
   "source": [
    "3) star parameter"
   ]
  },
  {
   "cell_type": "code",
   "execution_count": 5,
   "metadata": {},
   "outputs": [
    {
     "name": "stdout",
     "output_type": "stream",
     "text": [
      "S i n a n\n"
     ]
    }
   ],
   "source": [
    "print(*\"Sinan\") "
   ]
  },
  {
   "cell_type": "markdown",
   "metadata": {},
   "source": [
    "### .format()"
   ]
  },
  {
   "cell_type": "code",
   "execution_count": 7,
   "metadata": {},
   "outputs": [
    {
     "name": "stdout",
     "output_type": "stream",
     "text": [
      "İsim = Sinan, Soyad = Çavuşoğlu\n"
     ]
    }
   ],
   "source": [
    "print(\"İsim = {}, Soyad = {}\".format(\"Sinan\",\"Çavuşoğlu\"))"
   ]
  },
  {
   "cell_type": "markdown",
   "metadata": {},
   "source": [
    "### Round the Number with .format()"
   ]
  },
  {
   "cell_type": "code",
   "execution_count": 8,
   "metadata": {},
   "outputs": [
    {
     "name": "stdout",
     "output_type": "stream",
     "text": [
      "3.15\n",
      "3.146\n"
     ]
    }
   ],
   "source": [
    "a = 3.1463\n",
    "print(\"{:.2f}\".format(a))\n",
    "print(\"{:.3f}\".format(a))"
   ]
  },
  {
   "cell_type": "code",
   "execution_count": 9,
   "metadata": {},
   "outputs": [
    {
     "name": "stdout",
     "output_type": "stream",
     "text": [
      "3.15\n"
     ]
    }
   ],
   "source": [
    "# Or\n",
    "print(\"%.2f\"%a)"
   ]
  },
  {
   "cell_type": "markdown",
   "metadata": {},
   "source": [
    "## fstring"
   ]
  },
  {
   "cell_type": "code",
   "execution_count": 80,
   "metadata": {},
   "outputs": [
    {
     "name": "stdout",
     "output_type": "stream",
     "text": [
      "Sinan 23 yaşındadır\n"
     ]
    }
   ],
   "source": [
    "x = 23\n",
    "yaş = f\"Sinan {x} yaşındadır\"\n",
    "print(yaş)"
   ]
  },
  {
   "cell_type": "markdown",
   "metadata": {},
   "source": [
    "## Some Built-In Function"
   ]
  },
  {
   "cell_type": "markdown",
   "metadata": {},
   "source": [
    "#### len()\n",
    "The argument may be a sequence \n",
    "(such as a string, bytes, tuple, list, or range) \n",
    "or a collection \n",
    "(such as a dictionary, set, or frozen set)."
   ]
  },
  {
   "cell_type": "markdown",
   "metadata": {},
   "source": [
    "#### abs() ---> Absolute Value\n",
    "#### pow() ---> Exponential"
   ]
  },
  {
   "cell_type": "markdown",
   "metadata": {},
   "source": [
    "#### range()"
   ]
  },
  {
   "cell_type": "code",
   "execution_count": 13,
   "metadata": {},
   "outputs": [
    {
     "name": "stdout",
     "output_type": "stream",
     "text": [
      "0 1 2\n",
      "3 4 5 6 7 8 9\n",
      "1 4 7 10\n"
     ]
    }
   ],
   "source": [
    "print(*range(3))\n",
    "print(*range(3,10))\n",
    "print(*range(1,11,3))"
   ]
  },
  {
   "cell_type": "markdown",
   "metadata": {},
   "source": [
    "### eval()"
   ]
  },
  {
   "cell_type": "code",
   "execution_count": 14,
   "metadata": {},
   "outputs": [
    {
     "name": "stdout",
     "output_type": "stream",
     "text": [
      "<class 'tuple'>\n"
     ]
    }
   ],
   "source": [
    "x = eval(input())\n",
    "print(type(x))"
   ]
  },
  {
   "cell_type": "code",
   "execution_count": 15,
   "metadata": {},
   "outputs": [
    {
     "name": "stdout",
     "output_type": "stream",
     "text": [
      "<class 'list'>\n"
     ]
    }
   ],
   "source": [
    "y = eval(input())\n",
    "print(type(y))"
   ]
  },
  {
   "cell_type": "markdown",
   "metadata": {},
   "source": [
    "#### max(), min() and sum() ---> list and tuple"
   ]
  },
  {
   "cell_type": "markdown",
   "metadata": {},
   "source": [
    "#### Conditional - Repetitive "
   ]
  },
  {
   "cell_type": "code",
   "execution_count": 16,
   "metadata": {},
   "outputs": [
    {
     "name": "stdout",
     "output_type": "stream",
     "text": [
      "1 2\n",
      "3 4\n"
     ]
    }
   ],
   "source": [
    "list1 = [[1,2],[3,4]]\n",
    "for i,j in list1:\n",
    "    print(i,j)"
   ]
  },
  {
   "cell_type": "code",
   "execution_count": 19,
   "metadata": {},
   "outputs": [
    {
     "name": "stdout",
     "output_type": "stream",
     "text": [
      "bir\n",
      "iki\n",
      "üç\n",
      "1\n",
      "2\n",
      "3\n",
      "bir 1\n",
      "iki 2\n",
      "üç 3\n"
     ]
    }
   ],
   "source": [
    "sözlük = {\"bir\":1, \"iki\":2, \"üç\":3}\n",
    "for i in sözlük.keys():\n",
    "    print(i)\n",
    "for i in sözlük.values():\n",
    "    print(i)\n",
    "for i,j in sözlük.items():\n",
    "    print(i,j)"
   ]
  },
  {
   "cell_type": "markdown",
   "metadata": {},
   "source": [
    "### List Comprehension"
   ]
  },
  {
   "cell_type": "code",
   "execution_count": 27,
   "metadata": {},
   "outputs": [
    {
     "name": "stdout",
     "output_type": "stream",
     "text": [
      "[0, 1, 4, 9, 16, 25, 36, 49]\n",
      "[0, 4, 16, 36]\n",
      "[0, 1, 0, 1, 0, 1, 0, 1]\n"
     ]
    }
   ],
   "source": [
    "list1 = [i**2 for i in range(8)]\n",
    "list2 = [i**2 for i in range(8) if i%2 == 0]\n",
    "list3 = [0 if i%2 == 0 else 1 for i in range(8)]\n",
    "print(list1, list2, list3, sep = \"\\n\")"
   ]
  },
  {
   "cell_type": "code",
   "execution_count": 37,
   "metadata": {},
   "outputs": [],
   "source": [
    "list1 = [[0 for j in range(3)] for i in range(4)]\n",
    "list2 = [[1 for j in range(3) if i == j] for i in range(3)]\n",
    "list3 = [[(i,j) for j in range(3)] for i in range(4)]\n",
    "list4 = [[0 if (i+j)%2 else 1 for j in range(3) ] for i in range(4)]\n",
    "list5 = [[j + 3*i for j in range(3)] for i in range(4)]"
   ]
  },
  {
   "cell_type": "code",
   "execution_count": 38,
   "metadata": {},
   "outputs": [
    {
     "name": "stdout",
     "output_type": "stream",
     "text": [
      "[[0, 0, 0], [0, 0, 0], [0, 0, 0], [0, 0, 0]]\n",
      "[[1], [1], [1]]\n",
      "[[(0, 0), (0, 1), (0, 2)], [(1, 0), (1, 1), (1, 2)], [(2, 0), (2, 1), (2, 2)], [(3, 0), (3, 1), (3, 2)]]\n",
      "[[1, 0, 1], [0, 1, 0], [1, 0, 1], [0, 1, 0]]\n",
      "[[0, 1, 2], [3, 4, 5], [6, 7, 8], [9, 10, 11]]\n"
     ]
    }
   ],
   "source": [
    "print(list1, list2,list3,list4,list5,sep = \"\\n\")"
   ]
  },
  {
   "cell_type": "markdown",
   "metadata": {},
   "source": [
    "## Function"
   ]
  },
  {
   "cell_type": "markdown",
   "metadata": {},
   "source": [
    "## Predefined Parameters"
   ]
  },
  {
   "cell_type": "code",
   "execution_count": 35,
   "metadata": {},
   "outputs": [
    {
     "name": "stdout",
     "output_type": "stream",
     "text": [
      "Hello Sinan\n"
     ]
    }
   ],
   "source": [
    "def hello(end,start = \"Hello\"):\n",
    "    print(start + \" \" + end)\n",
    "hello(\"Sinan\")"
   ]
  },
  {
   "cell_type": "markdown",
   "metadata": {},
   "source": [
    "#### Global"
   ]
  },
  {
   "cell_type": "code",
   "execution_count": 7,
   "metadata": {},
   "outputs": [
    {
     "ename": "NameError",
     "evalue": "name 'a' is not defined",
     "output_type": "error",
     "traceback": [
      "\u001b[1;31m---------------------------------------------------------------------------\u001b[0m",
      "\u001b[1;31mNameError\u001b[0m                                 Traceback (most recent call last)",
      "\u001b[1;32mc:\\Users\\snnfb\\Desktop\\Ceng240 Notes.ipynb Cell 32'\u001b[0m in \u001b[0;36m<cell line: 4>\u001b[1;34m()\u001b[0m\n\u001b[0;32m      <a href='vscode-notebook-cell:/c%3A/Users/snnfb/Desktop/Ceng240%20Notes.ipynb#ch0000029?line=1'>2</a>\u001b[0m     a \u001b[39m=\u001b[39m \u001b[39m10\u001b[39m \u001b[39m#Local Variable\u001b[39;00m\n\u001b[0;32m      <a href='vscode-notebook-cell:/c%3A/Users/snnfb/Desktop/Ceng240%20Notes.ipynb#ch0000029?line=2'>3</a>\u001b[0m     \u001b[39mprint\u001b[39m(a)\n\u001b[1;32m----> <a href='vscode-notebook-cell:/c%3A/Users/snnfb/Desktop/Ceng240%20Notes.ipynb#ch0000029?line=3'>4</a>\u001b[0m \u001b[39mprint\u001b[39m(a)\n",
      "\u001b[1;31mNameError\u001b[0m: name 'a' is not defined"
     ]
    }
   ],
   "source": [
    "def func1():\n",
    "    a = 10 #Local Variable\n",
    "    print(a)\n",
    "print(a) # Not Define"
   ]
  },
  {
   "cell_type": "code",
   "execution_count": 8,
   "metadata": {},
   "outputs": [
    {
     "ename": "SyntaxError",
     "evalue": "invalid syntax (2141082430.py, line 5)",
     "output_type": "error",
     "traceback": [
      "\u001b[1;36m  Input \u001b[1;32mIn [8]\u001b[1;36m\u001b[0m\n\u001b[1;33m    func2():\u001b[0m\n\u001b[1;37m           ^\u001b[0m\n\u001b[1;31mSyntaxError\u001b[0m\u001b[1;31m:\u001b[0m invalid syntax\n"
     ]
    }
   ],
   "source": [
    "b = 5 \n",
    "def func2():\n",
    "    a = b\n",
    "    print(b,\"function\")\n",
    "func2():"
   ]
  },
  {
   "cell_type": "code",
   "execution_count": 10,
   "metadata": {},
   "outputs": [
    {
     "name": "stdout",
     "output_type": "stream",
     "text": [
      "5 b\n"
     ]
    },
    {
     "ename": "NameError",
     "evalue": "name 'a' is not defined",
     "output_type": "error",
     "traceback": [
      "\u001b[1;31m---------------------------------------------------------------------------\u001b[0m",
      "\u001b[1;31mNameError\u001b[0m                                 Traceback (most recent call last)",
      "\u001b[1;32mc:\\Users\\snnfb\\Desktop\\Ceng240 Notes.ipynb Cell 34'\u001b[0m in \u001b[0;36m<cell line: 6>\u001b[1;34m()\u001b[0m\n\u001b[0;32m      <a href='vscode-notebook-cell:/c%3A/Users/snnfb/Desktop/Ceng240%20Notes.ipynb#ch0000033?line=3'>4</a>\u001b[0m     \u001b[39mprint\u001b[39m(b,\u001b[39m\"\u001b[39m\u001b[39mb\u001b[39m\u001b[39m\"\u001b[39m)\n\u001b[0;32m      <a href='vscode-notebook-cell:/c%3A/Users/snnfb/Desktop/Ceng240%20Notes.ipynb#ch0000033?line=4'>5</a>\u001b[0m func2()\n\u001b[1;32m----> <a href='vscode-notebook-cell:/c%3A/Users/snnfb/Desktop/Ceng240%20Notes.ipynb#ch0000033?line=5'>6</a>\u001b[0m \u001b[39mprint\u001b[39m(a)\n",
      "\u001b[1;31mNameError\u001b[0m: name 'a' is not defined"
     ]
    }
   ],
   "source": [
    "b = 5\n",
    "def func2():\n",
    "    a = b\n",
    "    print(b,\"b\")\n",
    "func2()\n",
    "print(a) # Still local"
   ]
  },
  {
   "cell_type": "code",
   "execution_count": 12,
   "metadata": {},
   "outputs": [
    {
     "name": "stdout",
     "output_type": "stream",
     "text": [
      "2 function(local) c\n",
      "10 global c\n"
     ]
    }
   ],
   "source": [
    "c = 10\n",
    "def func3():\n",
    "    c = 2\n",
    "    print(c,\"function(local) c\")\n",
    "func3()\n",
    "print(c,\"global c\")\n"
   ]
  },
  {
   "cell_type": "code",
   "execution_count": 15,
   "metadata": {},
   "outputs": [
    {
     "name": "stdout",
     "output_type": "stream",
     "text": [
      "3 func d\n",
      "3 global\n"
     ]
    }
   ],
   "source": [
    "d = 5\n",
    "def func4():\n",
    "    global d\n",
    "    d = 3 #globalde ki d yi değiştirdi\n",
    "    print(d,\"func d\")\n",
    "func4()\n",
    "print(d, \"global\")\n",
    "\n"
   ]
  },
  {
   "cell_type": "markdown",
   "metadata": {},
   "source": [
    "global variable change the global value!"
   ]
  },
  {
   "cell_type": "markdown",
   "metadata": {},
   "source": [
    "## More About Built-In Function"
   ]
  },
  {
   "cell_type": "markdown",
   "metadata": {},
   "source": [
    "## lambda"
   ]
  },
  {
   "cell_type": "code",
   "execution_count": 16,
   "metadata": {},
   "outputs": [],
   "source": [
    "multp_2 = lambda x : x*2 "
   ]
  },
  {
   "cell_type": "code",
   "execution_count": 18,
   "metadata": {},
   "outputs": [
    {
     "data": {
      "text/plain": [
       "10"
      ]
     },
     "execution_count": 18,
     "metadata": {},
     "output_type": "execute_result"
    }
   ],
   "source": [
    "multp_2(5) # return özelliği var"
   ]
  },
  {
   "cell_type": "markdown",
   "metadata": {},
   "source": [
    "## map(function,iter)"
   ]
  },
  {
   "cell_type": "code",
   "execution_count": 19,
   "metadata": {},
   "outputs": [],
   "source": [
    "map_list = map(lambda x: 0 if x%2 == 0 else 1, [1,-1,24,3,7,56,1234,434,98])"
   ]
  },
  {
   "cell_type": "code",
   "execution_count": 20,
   "metadata": {},
   "outputs": [
    {
     "data": {
      "text/plain": [
       "<map at 0x57c4f40>"
      ]
     },
     "execution_count": 20,
     "metadata": {},
     "output_type": "execute_result"
    }
   ],
   "source": [
    "map_list"
   ]
  },
  {
   "cell_type": "code",
   "execution_count": 22,
   "metadata": {},
   "outputs": [
    {
     "name": "stdout",
     "output_type": "stream",
     "text": [
      "[1, 1, 0, 1, 1, 0, 0, 0, 0]\n"
     ]
    }
   ],
   "source": [
    "map_list = list(map_list)\n",
    "print(map_list)"
   ]
  },
  {
   "cell_type": "markdown",
   "metadata": {},
   "source": [
    "## Operation on 2 List"
   ]
  },
  {
   "cell_type": "code",
   "execution_count": 25,
   "metadata": {},
   "outputs": [
    {
     "name": "stdout",
     "output_type": "stream",
     "text": [
      "[1, 4, 9, 16]\n"
     ]
    }
   ],
   "source": [
    "list1 = [1,2,3,4]\n",
    "list2 = [1,2,3,4,5]\n",
    "new_list = map(lambda x,y: x*y,list1,list2)\n",
    "print(list(new_list)) # en az olan işleme göre"
   ]
  },
  {
   "cell_type": "markdown",
   "metadata": {},
   "source": [
    "## filter(func,list)"
   ]
  },
  {
   "cell_type": "code",
   "execution_count": 26,
   "metadata": {},
   "outputs": [
    {
     "data": {
      "text/plain": [
       "[2, 4, 6, 8]"
      ]
     },
     "execution_count": 26,
     "metadata": {},
     "output_type": "execute_result"
    }
   ],
   "source": [
    "list(filter(lambda x: x%2 == 0,[1,2,3,4,5,6,7,8]))"
   ]
  },
  {
   "cell_type": "markdown",
   "metadata": {},
   "source": [
    "## zip(list1,list2)"
   ]
  },
  {
   "cell_type": "code",
   "execution_count": 27,
   "metadata": {},
   "outputs": [
    {
     "data": {
      "text/plain": [
       "[(1, 1), (2, 2), (3, 3), (4, 4)]"
      ]
     },
     "execution_count": 27,
     "metadata": {},
     "output_type": "execute_result"
    }
   ],
   "source": [
    "liste1 = [1,2,3,4,5]\n",
    "liste2 = [\"one\",\"two\",\"three\",\"four\",\"five\"]\n",
    "list(zip(list1,list2))"
   ]
  },
  {
   "cell_type": "markdown",
   "metadata": {},
   "source": [
    "# Enumarate(list1)"
   ]
  },
  {
   "cell_type": "code",
   "execution_count": 33,
   "metadata": {},
   "outputs": [
    {
     "name": "stdout",
     "output_type": "stream",
     "text": [
      "[(0, 'a'), (1, 'b'), (2, 'c'), (3, 'd'), (4, 'e')]\n",
      "[(5, 'a'), (6, 'b'), (7, 'c'), (8, 'd'), (9, 'e')]\n"
     ]
    }
   ],
   "source": [
    "liste = [\"a\",\"b\",\"c\",\"d\",\"e\"]\n",
    "print(list(enumerate(liste)))\n",
    "print(list(enumerate(liste,start = 5)))"
   ]
  },
  {
   "cell_type": "markdown",
   "metadata": {},
   "source": [
    "# Recursion"
   ]
  },
  {
   "cell_type": "code",
   "execution_count": 36,
   "metadata": {},
   "outputs": [],
   "source": [
    "def fact(N):\n",
    "    if N == 0:\n",
    "        return 1\n",
    "    else:\n",
    "        return N * fact(N-1)"
   ]
  },
  {
   "cell_type": "code",
   "execution_count": 37,
   "metadata": {},
   "outputs": [
    {
     "data": {
      "text/plain": [
       "120"
      ]
     },
     "execution_count": 37,
     "metadata": {},
     "output_type": "execute_result"
    }
   ],
   "source": [
    "fact(5)"
   ]
  },
  {
   "cell_type": "markdown",
   "metadata": {},
   "source": [
    "## Random Module"
   ]
  },
  {
   "cell_type": "markdown",
   "metadata": {},
   "source": [
    "```python\n",
    ".random()\n",
    ".uniform()\n",
    ".randint()\n",
    ".randrange()\n",
    ".choice()\n",
    ".shuffle()\n",
    ".sample()\n",
    "```"
   ]
  },
  {
   "cell_type": "code",
   "execution_count": 38,
   "metadata": {},
   "outputs": [],
   "source": [
    "import random "
   ]
  },
  {
   "cell_type": "code",
   "execution_count": 43,
   "metadata": {},
   "outputs": [
    {
     "name": "stdout",
     "output_type": "stream",
     "text": [
      "0.2725092388888428\n",
      "0.5626915857018269\n",
      "0.4180065669200461\n",
      "0.8499076191170034\n",
      "0.970532782801377\n"
     ]
    }
   ],
   "source": [
    "for i in range(5):    #Return random number in the range[0,1)\n",
    "    print(random.random())"
   ]
  },
  {
   "cell_type": "code",
   "execution_count": 45,
   "metadata": {},
   "outputs": [
    {
     "name": "stdout",
     "output_type": "stream",
     "text": [
      "10.531935077186667\n",
      "12.794838025315471\n",
      "12.204112653454686\n",
      "18.732932123027744\n",
      "14.733732604352818\n"
     ]
    }
   ],
   "source": [
    "for i in range(5):          #Return random number in the range[a,b]\n",
    "    print(random.uniform(10,30))"
   ]
  },
  {
   "cell_type": "code",
   "execution_count": 51,
   "metadata": {},
   "outputs": [
    {
     "name": "stdout",
     "output_type": "stream",
     "text": [
      "3\n",
      "4\n",
      "2\n",
      "1\n",
      "1\n"
     ]
    }
   ],
   "source": [
    "for i in range(5):  # Return random integers between [a,b]\n",
    "    print(random.randint(1,5))   "
   ]
  },
  {
   "cell_type": "code",
   "execution_count": 55,
   "metadata": {},
   "outputs": [
    {
     "name": "stdout",
     "output_type": "stream",
     "text": [
      "4\n",
      "10\n",
      "10\n",
      "4\n",
      "7\n"
     ]
    }
   ],
   "source": [
    "for i in range(5):\n",
    "    print(random.randrange(1,15,3)) # [1,15) 3 step"
   ]
  },
  {
   "cell_type": "code",
   "execution_count": 57,
   "metadata": {},
   "outputs": [
    {
     "name": "stdout",
     "output_type": "stream",
     "text": [
      "d\n"
     ]
    }
   ],
   "source": [
    "list1 = [\"a\",\"b\",\"c\",\"d\",\"e\",\"f\",\"g\",\"h\"]\n",
    "print(random.choice(list1))"
   ]
  },
  {
   "cell_type": "code",
   "execution_count": 62,
   "metadata": {},
   "outputs": [
    {
     "name": "stdout",
     "output_type": "stream",
     "text": [
      "['g', 'd', 'e', 'c', 'f', 'b', 'a', 'h']\n"
     ]
    }
   ],
   "source": [
    "random.shuffle(list1)\n",
    "print(list1)\n",
    "# Yalnız şu none veriyor list1_shuffle = random.shuffle(list1)"
   ]
  },
  {
   "cell_type": "code",
   "execution_count": 70,
   "metadata": {},
   "outputs": [
    {
     "name": "stdout",
     "output_type": "stream",
     "text": [
      "['h', 'f', 'e']\n"
     ]
    }
   ],
   "source": [
    "print(random.sample(list1,3)) \n",
    "# choose random distinct 3 elemnent from list and return list"
   ]
  },
  {
   "cell_type": "markdown",
   "metadata": {},
   "source": [
    "## OOP\n",
    "#### CLASS"
   ]
  },
  {
   "cell_type": "code",
   "execution_count": 1,
   "metadata": {},
   "outputs": [],
   "source": [
    "class Araba():\n",
    "    model = \"Renault Megane\"\n",
    "    renk = \"Gümüş\"\n",
    "    beygir_gücü = 110   #These are attribute\n",
    "    silindir = 4"
   ]
  },
  {
   "cell_type": "code",
   "execution_count": 2,
   "metadata": {},
   "outputs": [
    {
     "data": {
      "text/plain": [
       "<__main__.Araba at 0x5483c70>"
      ]
     },
     "execution_count": 2,
     "metadata": {},
     "output_type": "execute_result"
    }
   ],
   "source": [
    "Araba()"
   ]
  },
  {
   "cell_type": "code",
   "execution_count": 4,
   "metadata": {},
   "outputs": [
    {
     "name": "stdout",
     "output_type": "stream",
     "text": [
      "Renault Megane\n",
      "Gümüş\n",
      "110\n",
      "4\n",
      "Gümüş\n"
     ]
    }
   ],
   "source": [
    "print(Araba().model)\n",
    "print(Araba().renk)\n",
    "print(Araba().beygir_gücü)\n",
    "print(Araba().silindir)\n",
    "araba1 = Araba()\n",
    "print(araba1.renk)"
   ]
  },
  {
   "cell_type": "markdown",
   "metadata": {},
   "source": [
    "# __ init __()"
   ]
  },
  {
   "cell_type": "markdown",
   "metadata": {},
   "source": [
    "This method called when an object is created from the class and it allow the class to initialize the attributes of a class."
   ]
  },
  {
   "cell_type": "code",
   "execution_count": 5,
   "metadata": {},
   "outputs": [],
   "source": [
    "class Araba():\n",
    "    def __init__(self,model,renk,silindir,beygir_gücü):\n",
    "        self.model = model\n",
    "        self.renk = renk\n",
    "        self.silindir = silindir\n",
    "        self.beygir_gücü = beygir_gücü"
   ]
  },
  {
   "cell_type": "markdown",
   "metadata": {},
   "source": [
    "the magic keyword \"self\"  represents the instance of the class. It binds the attributes with the given arguments.\n",
    "\n",
    "Use self everywhere\n"
   ]
  },
  {
   "cell_type": "code",
   "execution_count": 6,
   "metadata": {},
   "outputs": [],
   "source": [
    "araba1 = Araba(\"Corrola\",\"Kırmızı\",4,130)"
   ]
  },
  {
   "cell_type": "code",
   "execution_count": 7,
   "metadata": {},
   "outputs": [
    {
     "name": "stdout",
     "output_type": "stream",
     "text": [
      "Corrola\n",
      "Kırmızı\n",
      "4\n"
     ]
    }
   ],
   "source": [
    "print(araba1.model)\n",
    "print(araba1.renk)\n",
    "print(araba1.silindir)"
   ]
  },
  {
   "cell_type": "code",
   "execution_count": 9,
   "metadata": {},
   "outputs": [
    {
     "name": "stdout",
     "output_type": "stream",
     "text": [
      "\u001b[1;31mInit signature:\u001b[0m \u001b[0mAraba\u001b[0m\u001b[1;33m(\u001b[0m\u001b[0mmodel\u001b[0m\u001b[1;33m,\u001b[0m \u001b[0mrenk\u001b[0m\u001b[1;33m,\u001b[0m \u001b[0msilindir\u001b[0m\u001b[1;33m,\u001b[0m \u001b[0mbeygir_gücü\u001b[0m\u001b[1;33m)\u001b[0m\u001b[1;33m\u001b[0m\u001b[1;33m\u001b[0m\u001b[0m\n",
      "\u001b[1;31mDocstring:\u001b[0m      <no docstring>\n",
      "\u001b[1;31mType:\u001b[0m           type\n",
      "\u001b[1;31mSubclasses:\u001b[0m     \n"
     ]
    }
   ],
   "source": [
    "Araba?"
   ]
  },
  {
   "cell_type": "code",
   "execution_count": 12,
   "metadata": {},
   "outputs": [],
   "source": [
    "araba2 = Araba(beygir_gücü=90,model =\"Corsa\",renk=\"Siyah\",silindir = 2)"
   ]
  },
  {
   "cell_type": "code",
   "execution_count": 13,
   "metadata": {},
   "outputs": [
    {
     "data": {
      "text/plain": [
       "'Corsa'"
      ]
     },
     "execution_count": 13,
     "metadata": {},
     "output_type": "execute_result"
    }
   ],
   "source": [
    "araba2.model"
   ]
  },
  {
   "cell_type": "markdown",
   "metadata": {},
   "source": [
    "## OOP Example"
   ]
  },
  {
   "cell_type": "code",
   "execution_count": 14,
   "metadata": {},
   "outputs": [],
   "source": [
    "class shape():\n",
    "    def __init__(self,x,y):\n",
    "        self.x = x\n",
    "        self.y = y\n",
    "    \n",
    "    def set_color(self,red,green,blue):\n",
    "        self.color = (red,green,blue)\n",
    "    \n",
    "    def move_to(self,x,y):\n",
    "        self.x = x\n",
    "        self.y = y\n",
    "    def __str__(self):\n",
    "        return \"Coordinate = ({},{}) and RGB Decimal = {}\".format(self.x,self.y,self.color)"
   ]
  },
  {
   "cell_type": "markdown",
   "metadata": {},
   "source": [
    "```python\n",
    "def __str__(self):\n",
    "    return ... # evoke print()\n",
    "``` "
   ]
  },
  {
   "cell_type": "code",
   "execution_count": 15,
   "metadata": {},
   "outputs": [],
   "source": [
    "player1 = shape(20,30)\n",
    "player1.set_color(0,255,10)"
   ]
  },
  {
   "cell_type": "code",
   "execution_count": 17,
   "metadata": {},
   "outputs": [
    {
     "name": "stdout",
     "output_type": "stream",
     "text": [
      "Coordinate = (20,30) and RGB Decimal = (0, 255, 10)\n"
     ]
    }
   ],
   "source": [
    "print(player1)"
   ]
  },
  {
   "cell_type": "markdown",
   "metadata": {},
   "source": [
    "##### Example: Rational Number\n",
    "https://docs.python.org/3/reference/datamodel.html#special-method-names"
   ]
  },
  {
   "cell_type": "code",
   "execution_count": 21,
   "metadata": {},
   "outputs": [],
   "source": [
    "import math\n",
    "class rational_number():\n",
    "    def __init__(self,x,y):\n",
    "        if y == 0:\n",
    "            raise ZeroDivisionError\n",
    "        else:\n",
    "            self.x = x\n",
    "            self.y = y\n",
    "            self.simplify()\n",
    "        def simplify(self):\n",
    "            if self.x == 0:\n",
    "                self.y = 1\n",
    "                return\n",
    "            gcd = math.gcd(self.x,self.y)\n",
    "            self.x = self.x // gcd\n",
    "            self.y = self.y // gcd\n",
    "        def __str__(self):\n",
    "            return \"{}/{}\".format(self.x,self.y)\n",
    "        def __mul__(self,rhs):\n",
    "            retval = rational_number(self.x * rhs.x, self.y * rhs.y)\n",
    "            return retval\n",
    "        def __add__(self,rhs):\n",
    "            retval = rational_number(self.x*rhs.y+self.y*rhs.x,self.y*rhs.y)\n",
    "            return retval\n",
    "        def __truediv__(self,rhs):\n",
    "            retval = rational_number(self.x * rhs.y, self.y * rhs.x)\n",
    "            return retval\n",
    "        def __eq__(self,rhs):\n",
    "            return self.x*rhs.y == self.y*rhs.x\n",
    "        def __ne__(self,rhs):\n",
    "            return self.x*rhs.y != self.y*rhs.x\n",
    "        def __lt__(self,rhs):\n",
    "            return self.x*rhs.y < self.y*rhs.x\n",
    "        def __le__(self,rhs):\n",
    "            return self.x*rhs.y <= self.y*rhs.x\n",
    "        def __gt__(self,rhs):\n",
    "            return self.x*rhs.y > self.y*rhs.x\n",
    "        def __ge__(self,rhs):\n",
    "            return self.x*rhs.y > self.y*rhs.x\n",
    "        def __abs__(self):\n",
    "            self.x = abs(self.x)\n",
    "            self.y = abs(self.y)\n",
    "            "
   ]
  },
  {
   "cell_type": "markdown",
   "metadata": {},
   "source": [
    "# Method of String\n",
    "string doesn't change the variable"
   ]
  },
  {
   "cell_type": "markdown",
   "metadata": {},
   "source": [
    "#### .format()"
   ]
  },
  {
   "cell_type": "code",
   "execution_count": 18,
   "metadata": {},
   "outputs": [
    {
     "name": "stdout",
     "output_type": "stream",
     "text": [
      "My name is Sinan\n",
      "I like Python and Java\n",
      "I like Pandas and TensorFlow\n"
     ]
    }
   ],
   "source": [
    "print(\"My name is {}\".format(\"Sinan\"))\n",
    "print(\"I like {0} and {1}\".format(\"Python\",\"Java\")) # Same as above\n",
    "print(\"I like {1} and {0}\".format(\"TensorFlow\",\"Pandas\")) # Index can be any order"
   ]
  },
  {
   "cell_type": "markdown",
   "metadata": {},
   "source": [
    "### Use format with list and dict\n",
    "list and tuple ---> *list, *tuple\n",
    "dict ---> **dict"
   ]
  },
  {
   "cell_type": "code",
   "execution_count": 21,
   "metadata": {},
   "outputs": [
    {
     "name": "stdout",
     "output_type": "stream",
     "text": [
      "I like Java and Python\n"
     ]
    }
   ],
   "source": [
    "t = (\"Java\",\"Python\")\n",
    "print(\"I like {} and {}\".format(*t))"
   ]
  },
  {
   "cell_type": "code",
   "execution_count": 23,
   "metadata": {},
   "outputs": [
    {
     "name": "stdout",
     "output_type": "stream",
     "text": [
      "JournalDev CEO is Pankaj\n"
     ]
    }
   ],
   "source": [
    "d = {\"name\": \"Pankaj\", \"job\": \"CEO\", \"company\": \"JournalDev\"}\n",
    "print(\"{company} {job} is {name}\".format(**d))"
   ]
  },
  {
   "cell_type": "markdown",
   "metadata": {},
   "source": [
    "### Formatted String with Padding and Alignment"
   ]
  },
  {
   "cell_type": "code",
   "execution_count": 34,
   "metadata": {},
   "outputs": [
    {
     "name": "stdout",
     "output_type": "stream",
     "text": [
      "     data center aligned      \n",
      "data without align            \n",
      "data left aligned             \n",
      "            data right aligned\n",
      "|||data with fill character|||\n"
     ]
    }
   ],
   "source": [
    "print(\"{:^30}\".format(\"data center aligned\"))\n",
    "print(\"{:30}\".format(\"data without align\"))\n",
    "print(\"{:<30}\".format(\"data left aligned\"))\n",
    "print(\"{:>30}\".format(\"data right aligned\"))\n",
    "print(\"{:|^30}\".format(\"data with fill character\"))\n"
   ]
  },
  {
   "cell_type": "markdown",
   "metadata": {},
   "source": [
    "### .split()"
   ]
  },
  {
   "cell_type": "code",
   "execution_count": 1,
   "metadata": {},
   "outputs": [
    {
     "name": "stdout",
     "output_type": "stream",
     "text": [
      "['Python', 'is', 'Nice']\n",
      "['Python ', ' Nice']\n",
      "['Python', 'Nice']\n"
     ]
    }
   ],
   "source": [
    "s = \"Python is Nice\"\n",
    "str_list = s.split() # Seperate empty space\n",
    "print(str_list)\n",
    "str_list = s.split(\"is\")\n",
    "print(str_list)\n",
    "str_list = s.split(\" is \")\n",
    "print(str_list)"
   ]
  },
  {
   "cell_type": "code",
   "execution_count": 2,
   "metadata": {},
   "outputs": [
    {
     "name": "stdout",
     "output_type": "stream",
     "text": [
      "['Java', 'Python', 'iOS', 'Android']\n"
     ]
    }
   ],
   "source": [
    "s2 = \"  Java    Python iOS      Android\"\n",
    "str_list = s2.split()\n",
    "print(str_list)"
   ]
  },
  {
   "cell_type": "markdown",
   "metadata": {},
   "source": [
    "### .join()"
   ]
  },
  {
   "cell_type": "code",
   "execution_count": 4,
   "metadata": {},
   "outputs": [
    {
     "name": "stdout",
     "output_type": "stream",
     "text": [
      "aeiou\n",
      "String characters are: H,e,l,l,o\n"
     ]
    }
   ],
   "source": [
    "tuple_vowels = ('a', 'e', 'i', 'o', 'u')\n",
    "vowels_str = \"\".join(tuple_vowels)\n",
    "print(vowels_str)\n",
    "string = 'Hello'\n",
    "print(f'String characters are: {\",\".join(string)}')\n"
   ]
  },
  {
   "cell_type": "markdown",
   "metadata": {},
   "source": [
    "### .strip()"
   ]
  },
  {
   "cell_type": "markdown",
   "metadata": {},
   "source": [
    "strip(): Returns a new string after removing any leading and trailling whitespaces including tabs(\\t)\n",
    "\n",
    "rstrip(): returns a new string with trailing whitespace removed. \n",
    "It’s easier to remember as removing white spaces from \n",
    "“right” side of the string.\n",
    "\n",
    "\n",
    "lstrip(): returns a new string with leading whitespace removed, \n",
    "or removing whitespaces from the “left” side of the string."
   ]
  },
  {
   "cell_type": "code",
   "execution_count": 19,
   "metadata": {},
   "outputs": [
    {
     "name": "stdout",
     "output_type": "stream",
     "text": [
      "Sinan\n",
      "  Sinan\n",
      "Sinan  \n",
      "b\n"
     ]
    }
   ],
   "source": [
    "s1 = \"  Sinan  \"\n",
    "print(s1.strip())\n",
    "print(s1.rstrip())\n",
    "print(s1.lstrip())\n",
    "s2 =\"efbeaefe\"\n",
    "print(s2.strip(\"efa\"))  # Sağdan ve soldan e,f,a gördüklerini \n",
    "                        # temizleyerek gelir\n"
   ]
  },
  {
   "cell_type": "markdown",
   "metadata": {},
   "source": [
    "## .format_map()"
   ]
  },
  {
   "cell_type": "code",
   "execution_count": 21,
   "metadata": {},
   "outputs": [
    {
     "name": "stdout",
     "output_type": "stream",
     "text": [
      "My name is Pankaj and I am a Software Engineer\n",
      "My name is Pankaj and I am a Software Engineer\n"
     ]
    }
   ],
   "source": [
    "s = 'My name is {name} and I am a {job_title}'\n",
    "\n",
    "my_dict = {'name': 'Pankaj', 'job_title': 'Software Engineer'}\n",
    "\n",
    "print(s.format_map(my_dict))\n",
    "print(s.format(**my_dict))   # Same"
   ]
  },
  {
   "cell_type": "markdown",
   "metadata": {},
   "source": [
    "## .find()"
   ]
  },
  {
   "cell_type": "code",
   "execution_count": 23,
   "metadata": {},
   "outputs": [
    {
     "name": "stdout",
     "output_type": "stream",
     "text": [
      "0\n",
      "-1\n"
     ]
    }
   ],
   "source": [
    "s = \"abcd1234\"\n",
    "print(s.find(\"a\"))  # ne zaman \"a\" yı bulursa hemen o indexi döner \n",
    "print(s.find(\"a\",1)) # 1. indexten sonra gider"
   ]
  },
  {
   "cell_type": "markdown",
   "metadata": {},
   "source": [
    "## .count()"
   ]
  },
  {
   "cell_type": "code",
   "execution_count": 26,
   "metadata": {},
   "outputs": [
    {
     "name": "stdout",
     "output_type": "stream",
     "text": [
      "2\n",
      "1\n",
      "0\n"
     ]
    }
   ],
   "source": [
    "string = 'I like Python programming. Python is Awesome!'\n",
    "print(string.count(\"Python\"))\n",
    "x = \"Sinan Çavuşoğlu\"\n",
    "print(x.count(\"a\",4))\n",
    "print(x.count(\"t\"))"
   ]
  },
  {
   "cell_type": "markdown",
   "metadata": {},
   "source": [
    "## .index()"
   ]
  },
  {
   "cell_type": "code",
   "execution_count": 27,
   "metadata": {},
   "outputs": [
    {
     "name": "stdout",
     "output_type": "stream",
     "text": [
      "0\n",
      "2\n",
      "8\n"
     ]
    }
   ],
   "source": [
    "s = \"abcd1234dcba\"\n",
    "print(s.index(\"a\"))\n",
    "print(s.index(\"cd\"))\n",
    "print(s.index(\"d\",4,9))"
   ]
  },
  {
   "cell_type": "code",
   "execution_count": 28,
   "metadata": {},
   "outputs": [],
   "source": [
    "\"\"\"\n",
    "1\tcapitalize()\n",
    "Capitalizes first letter of string\n",
    "\n",
    "2\tcenter(width, fillchar)\n",
    "Returns a space-padded string with the original string centered to a total of width columns.\n",
    "\n",
    "3\tcount(str, beg= 0,end=len(string))\n",
    "Counts how many times str occurs in string or in a substring of string if starting index beg and ending index end are given.\n",
    "\n",
    "4\tdecode(encoding='UTF-8',errors='strict')\n",
    "Decodes the string using the codec registered for encoding. encoding defaults to the default string encoding.\n",
    "\n",
    "5\tencode(encoding='UTF-8',errors='strict')\n",
    "Returns encoded string version of string; on error, default is to raise a ValueError unless errors is given with 'ignore' or 'replace'.\n",
    "\n",
    "6\tendswith(suffix, beg=0, end=len(string))\n",
    "Determines if string or a substring of string (if starting index beg and ending index end are given) ends with suffix; returns true if so and false otherwise.\n",
    "\n",
    "7\texpandtabs(tabsize=8)\n",
    "Expands tabs in string to multiple spaces; defaults to 8 spaces per tab if tabsize not provided.\n",
    "\n",
    "8\tfind(str, beg=0 end=len(string))\n",
    "Determine if str occurs in string or in a substring of string if starting index beg and ending index end are given returns index if found and -1 otherwise.\n",
    "\n",
    "9\tindex(str, beg=0, end=len(string))\n",
    "Same as find(), but raises an exception if str not found.\n",
    "\n",
    "10\tisalnum()\n",
    "Returns true if string has at least 1 character and all characters are alphanumeric and false otherwise.\n",
    "\n",
    "11\tisalpha()\n",
    "Returns true if string has at least 1 character and all characters are alphabetic and false otherwise.\n",
    "\n",
    "12\tisdigit()\n",
    "Returns true if string contains only digits and false otherwise.\n",
    "\n",
    "13\tislower()\n",
    "Returns true if string has at least 1 cased character and all cased characters are in lowercase and false otherwise.\n",
    "\n",
    "14\tisnumeric()\n",
    "Returns true if a unicode string contains only numeric characters and false otherwise.\n",
    "\n",
    "15\tisspace()\n",
    "Returns true if string contains only whitespace characters and false otherwise.\n",
    "\n",
    "16\tistitle()\n",
    "Returns true if string is properly \"titlecased\" and false otherwise.\n",
    "\n",
    "17\tisupper()\n",
    "Returns true if string has at least one cased character and all cased characters are in uppercase and false otherwise.\n",
    "\n",
    "18\tjoin(seq)\n",
    "Merges (concatenates) the string representations of elements in sequence seq into a string, with separator string.\n",
    "\n",
    "19\tlen(string)\n",
    "Returns the length of the string\n",
    "\n",
    "20\tljust(width[, fillchar])\n",
    "Returns a space-padded string with the original string left-justified to a total of width columns.\n",
    "\n",
    "21\tlower()\n",
    "Converts all uppercase letters in string to lowercase.\n",
    "\n",
    "22\tlstrip()\n",
    "Removes all leading whitespace in string.\n",
    "\n",
    "23\tmaketrans()\n",
    "Returns a translation table to be used in translate function.\n",
    "\n",
    "24\tmax(str)\n",
    "Returns the max alphabetical character from the string str.\n",
    "\n",
    "25\tmin(str)\n",
    "Returns the min alphabetical character from the string str.\n",
    "\n",
    "26\treplace(old, new [, max])\n",
    "Replaces all occurrences of old in string with new or at most max occurrences if max given.\n",
    "\n",
    "27\trfind(str, beg=0,end=len(string))\n",
    "Same as find(), but search backwards in string.\n",
    "\n",
    "28\trindex( str, beg=0, end=len(string))\n",
    "Same as index(), but search backwards in string.\n",
    "\n",
    "29\trjust(width,[, fillchar])\n",
    "Returns a space-padded string with the original string right-justified to a total of width columns.\n",
    "\n",
    "30\trstrip()\n",
    "Removes all trailing whitespace of string.\n",
    "\n",
    "31\tsplit(str=\"\", num=string.count(str))\n",
    "Splits string according to delimiter str (space if not provided) and returns list of substrings; split into at most num substrings if given.\n",
    "\n",
    "32\tsplitlines( num=string.count('\\n'))\n",
    "Splits string at all (or num) NEWLINEs and returns a list of each line with NEWLINEs removed.\n",
    "\n",
    "33\tstartswith(str, beg=0,end=len(string))\n",
    "Determines if string or a substring of string (if starting index beg and ending index end are given) starts with substring str; returns true if so and false otherwise.\n",
    "\n",
    "34\tstrip([chars])\n",
    "Performs both lstrip() and rstrip() on string.\n",
    "\n",
    "35\tswapcase()\n",
    "Inverts case for all letters in string.\n",
    "\n",
    "36\ttitle()\n",
    "Returns \"titlecased\" version of string, that is, all words begin with uppercase and the rest are lowercase.\n",
    "\n",
    "37\ttranslate(table, deletechars=\"\")\n",
    "Translates string according to translation table str(256 chars), removing those in the del string.\n",
    "\n",
    "38\tupper()\n",
    "Converts lowercase letters in string to uppercase.\n",
    "\n",
    "39\tzfill (width)\n",
    "Returns original string leftpadded with zeros to a total of width characters; intended for numbers, zfill() retains any sign given (less one zero).\n",
    "\n",
    "40\tisdecimal()\n",
    "Returns true if a unicode string contains only decimal characters and false otherwise.\n",
    "\"\"\";"
   ]
  },
  {
   "cell_type": "markdown",
   "metadata": {},
   "source": [
    "# Method of List"
   ]
  },
  {
   "cell_type": "markdown",
   "metadata": {},
   "source": [
    "### Change - Insert List without Method"
   ]
  },
  {
   "cell_type": "code",
   "execution_count": 1,
   "metadata": {},
   "outputs": [
    {
     "data": {
      "text/plain": [
       "[1, 2, 3, 4]"
      ]
     },
     "execution_count": 1,
     "metadata": {},
     "output_type": "execute_result"
    }
   ],
   "source": [
    "l1 = [1,2,3]\n",
    "l1 += [4]\n",
    "l1"
   ]
  },
  {
   "cell_type": "code",
   "execution_count": 2,
   "metadata": {},
   "outputs": [
    {
     "data": {
      "text/plain": [
       "[1, 2, 33, 4, 5, 6]"
      ]
     },
     "execution_count": 2,
     "metadata": {},
     "output_type": "execute_result"
    }
   ],
   "source": [
    "l2 = [1,2,3,4,5,6]\n",
    "l2[2] = 33\n",
    "l2"
   ]
  },
  {
   "cell_type": "code",
   "execution_count": 3,
   "metadata": {},
   "outputs": [
    {
     "name": "stdout",
     "output_type": "stream",
     "text": [
      "[10, 11, 3, 4, 5, 6]\n"
     ]
    }
   ],
   "source": [
    "l3 = [1,2,3,4,5,6]\n",
    "l3[:2] = [10,11]\n",
    "print(l3)"
   ]
  },
  {
   "cell_type": "markdown",
   "metadata": {},
   "source": [
    "## Deletion from List"
   ]
  },
  {
   "cell_type": "code",
   "execution_count": 4,
   "metadata": {},
   "outputs": [
    {
     "data": {
      "text/plain": [
       "[1, 6]"
      ]
     },
     "execution_count": 4,
     "metadata": {},
     "output_type": "execute_result"
    }
   ],
   "source": [
    "liste = [1,2,3,4,5,6]\n",
    "liste[1:5] = []  # Change list form index 1 to 5 with []\n",
    "liste"
   ]
  },
  {
   "cell_type": "code",
   "execution_count": 5,
   "metadata": {},
   "outputs": [
    {
     "name": "stdout",
     "output_type": "stream",
     "text": [
      "[1, 2, 3, 4, 5, 6]\n",
      "[1, 2, 3, 4, 5, 6, 1, 2, 3, 4, 5, 6, 1, 2, 3, 4, 5, 6, 1, 2, 3, 4, 5, 6]\n"
     ]
    }
   ],
   "source": [
    "liste1 = [1,2,3]\n",
    "liste2 = [4,5,6]\n",
    "liste1 += liste2\n",
    "print(liste1)\n",
    "liste3 = liste1*4\n",
    "print(liste3)"
   ]
  },
  {
   "cell_type": "code",
   "execution_count": 6,
   "metadata": {},
   "outputs": [],
   "source": [
    "\"\"\"\n",
    "Sr.No.\tMethods with Description\n",
    "1\tlist.append(obj)\n",
    "Appends object obj to list (end of the list)\n",
    "\n",
    "2\tlist.count(obj)\n",
    "Returns count of how many times obj occurs in list\n",
    "\n",
    "3\tlist.extend(seq)\n",
    "Appends the contents of seq to list\n",
    "\n",
    "4\tlist.index(obj)\n",
    "Returns the lowest index in list that obj appears\n",
    "\n",
    "5\tlist.insert(index, obj)\n",
    "Inserts object obj into list at offset index\n",
    "\n",
    "6\tlist.pop(obj=list[-1])\n",
    "Removes and returns last object or obj from list\n",
    "\n",
    "7\tlist.remove(obj)\n",
    "Removes object obj from list\n",
    "\n",
    "8\tlist.reverse()\n",
    "Reverses objects of list in place\n",
    "\n",
    "9\tlist.sort([func])\n",
    "Sorts objects of list, use compare func if given\"\"\";"
   ]
  },
  {
   "cell_type": "markdown",
   "metadata": {},
   "source": [
    "## .append()"
   ]
  },
  {
   "cell_type": "code",
   "execution_count": 7,
   "metadata": {},
   "outputs": [
    {
     "data": {
      "text/plain": [
       "['Mustafa', 'Tuba', 'Efe', 'Sinan']"
      ]
     },
     "execution_count": 7,
     "metadata": {},
     "output_type": "execute_result"
    }
   ],
   "source": [
    "aile = [\"Mustafa\",\"Tuba\",\"Efe\"]\n",
    "aile.append(\"Sinan\")\n",
    "aile"
   ]
  },
  {
   "cell_type": "markdown",
   "metadata": {},
   "source": [
    "## .insert(index,obj)"
   ]
  },
  {
   "cell_type": "code",
   "execution_count": 8,
   "metadata": {},
   "outputs": [
    {
     "name": "stdout",
     "output_type": "stream",
     "text": [
      "[1, 2, 3, 4, 5, 6]\n",
      "[0, 1, 2, 3, 4, 5, 6]\n",
      "[0, 1, 2, 3, 3.5, 4, 5, 6]\n"
     ]
    }
   ],
   "source": [
    "liste = [1,2,3,4,5]\n",
    "liste.insert(len(liste),6)\n",
    "print(liste)\n",
    "liste.insert(0,0)\n",
    "print(liste)\n",
    "liste.insert(4,3.5)\n",
    "print(liste)"
   ]
  },
  {
   "cell_type": "markdown",
   "metadata": {},
   "source": [
    "## .extend()"
   ]
  },
  {
   "cell_type": "code",
   "execution_count": 10,
   "metadata": {},
   "outputs": [
    {
     "data": {
      "text/plain": [
       "[1, 2, 3, 4, 5, 6, 7, 8]"
      ]
     },
     "execution_count": 10,
     "metadata": {},
     "output_type": "execute_result"
    }
   ],
   "source": [
    "x1 = [1,2,3,4,5]\n",
    "x2 = [6,7,8]\n",
    "x3 = [9]\n",
    "x1.extend(x2)\n",
    "x1"
   ]
  },
  {
   "cell_type": "markdown",
   "metadata": {},
   "source": [
    "## .pop()"
   ]
  },
  {
   "cell_type": "code",
   "execution_count": 11,
   "metadata": {},
   "outputs": [
    {
     "data": {
      "text/plain": [
       "9"
      ]
     },
     "execution_count": 11,
     "metadata": {},
     "output_type": "execute_result"
    }
   ],
   "source": [
    "liste1 = [1,2,3,4,5,6,7,8,9]\n",
    "liste1.pop() # Sondaki elemanı atıyor"
   ]
  },
  {
   "cell_type": "code",
   "execution_count": 12,
   "metadata": {},
   "outputs": [
    {
     "data": {
      "text/plain": [
       "2"
      ]
     },
     "execution_count": 12,
     "metadata": {},
     "output_type": "execute_result"
    }
   ],
   "source": [
    "liste1.pop(1)  #index 1 i atıyor"
   ]
  },
  {
   "cell_type": "code",
   "execution_count": 13,
   "metadata": {},
   "outputs": [
    {
     "data": {
      "text/plain": [
       "[1, 3, 4, 5, 6, 7, 8]"
      ]
     },
     "execution_count": 13,
     "metadata": {},
     "output_type": "execute_result"
    }
   ],
   "source": [
    "liste1"
   ]
  },
  {
   "cell_type": "markdown",
   "metadata": {},
   "source": [
    "## .remove()"
   ]
  },
  {
   "cell_type": "code",
   "execution_count": 14,
   "metadata": {},
   "outputs": [
    {
     "data": {
      "text/plain": [
       "[1, 2, 3, 4, 5]"
      ]
     },
     "execution_count": 14,
     "metadata": {},
     "output_type": "execute_result"
    }
   ],
   "source": [
    "liste=[1,2,3,4,5,\"a\"]\n",
    "liste.remove(\"a\") #verilen elemanı atıyor\n",
    "liste"
   ]
  },
  {
   "cell_type": "markdown",
   "metadata": {},
   "source": [
    "## .index()"
   ]
  },
  {
   "cell_type": "code",
   "execution_count": 15,
   "metadata": {},
   "outputs": [
    {
     "data": {
      "text/plain": [
       "4"
      ]
     },
     "execution_count": 15,
     "metadata": {},
     "output_type": "execute_result"
    }
   ],
   "source": [
    "liste = [1,2,3,4,5]\n",
    "liste.index(5) #en baştan başlayınca bulduğunda söylüyor"
   ]
  },
  {
   "cell_type": "markdown",
   "metadata": {},
   "source": [
    "## .count()"
   ]
  },
  {
   "cell_type": "code",
   "execution_count": 16,
   "metadata": {},
   "outputs": [
    {
     "data": {
      "text/plain": [
       "4"
      ]
     },
     "execution_count": 16,
     "metadata": {},
     "output_type": "execute_result"
    }
   ],
   "source": [
    "liste2 = [1,2,3,4,5,5,6,1,2,3,1,2,32,2]\n",
    "liste2.count(2)"
   ]
  },
  {
   "cell_type": "markdown",
   "metadata": {},
   "source": [
    "## .sort()"
   ]
  },
  {
   "cell_type": "code",
   "execution_count": 17,
   "metadata": {},
   "outputs": [
    {
     "name": "stdout",
     "output_type": "stream",
     "text": [
      "[1, 2, 2, 2, 2, 2, 3, 4, 52, 52, 53, 78, 444, 1234, 12351]\n"
     ]
    }
   ],
   "source": [
    "liste = [1,2,1234,2,4,2,12351,2,444,53,52,52,2,3,78]\n",
    "liste.sort()   #Küçükten büyüğe\n",
    "print(liste)"
   ]
  },
  {
   "cell_type": "code",
   "execution_count": 18,
   "metadata": {},
   "outputs": [
    {
     "data": {
      "text/plain": [
       "[12351, 1234, 444, 78, 53, 52, 52, 4, 3, 2, 2, 2, 2, 2, 1]"
      ]
     },
     "execution_count": 18,
     "metadata": {},
     "output_type": "execute_result"
    }
   ],
   "source": [
    "liste.sort(reverse = True) #Büyükten Küçüğe\n",
    "liste"
   ]
  },
  {
   "cell_type": "markdown",
   "metadata": {},
   "source": [
    "# Dictionary\n",
    "Mutable\n",
    "\n",
    "Key: Immutable Elements: Numbers, String or Tuple"
   ]
  },
  {
   "cell_type": "code",
   "execution_count": 1,
   "metadata": {},
   "outputs": [],
   "source": [
    "dict1 = {34:\"istanbul\",\n",
    "         58:\"sivas\",\n",
    " \"istanbul\":[[7,\"tepeli\",\"sehir\"],(41.0383,28.9703),34,15.5e6],\n",
    " \"murtaza abi\":\"sivas\",\n",
    " (\"ahmet\",(8,14)):\"almanya\",\n",
    " \"james bond\":7,\n",
    " (\"ahmet\",(1,6)):[\"anne\",\"anneanne\"],\n",
    " (\"ahmet\",7):\"sivas\",\n",
    " \"karsiyaka\":35.5}"
   ]
  },
  {
   "cell_type": "markdown",
   "metadata": {},
   "source": [
    "## add value\n"
   ]
  },
  {
   "cell_type": "code",
   "execution_count": 2,
   "metadata": {},
   "outputs": [],
   "source": [
    "dict1[\"sinan\"] = \"efe\""
   ]
  },
  {
   "cell_type": "code",
   "execution_count": 3,
   "metadata": {},
   "outputs": [
    {
     "data": {
      "text/plain": [
       "{34: 'istanbul',\n",
       " 58: 'sivas',\n",
       " 'istanbul': [[7, 'tepeli', 'sehir'], (41.0383, 28.9703), 34, 15500000.0],\n",
       " 'murtaza abi': 'sivas',\n",
       " ('ahmet', (8, 14)): 'almanya',\n",
       " 'james bond': 7,\n",
       " ('ahmet', (1, 6)): ['anne', 'anneanne'],\n",
       " ('ahmet', 7): 'sivas',\n",
       " 'karsiyaka': 35.5,\n",
       " 'sinan': 'efe'}"
      ]
     },
     "execution_count": 3,
     "metadata": {},
     "output_type": "execute_result"
    }
   ],
   "source": [
    "dict1"
   ]
  },
  {
   "cell_type": "markdown",
   "metadata": {},
   "source": [
    "## Accessing Items"
   ]
  },
  {
   "cell_type": "code",
   "execution_count": 4,
   "metadata": {},
   "outputs": [
    {
     "data": {
      "text/plain": [
       "'istanbul'"
      ]
     },
     "execution_count": 4,
     "metadata": {},
     "output_type": "execute_result"
    }
   ],
   "source": [
    "dict1[34]"
   ]
  },
  {
   "cell_type": "code",
   "execution_count": 5,
   "metadata": {},
   "outputs": [
    {
     "data": {
      "text/plain": [
       "'sivas'"
      ]
     },
     "execution_count": 5,
     "metadata": {},
     "output_type": "execute_result"
    }
   ],
   "source": [
    "dict1[(\"ahmet\",7)]"
   ]
  },
  {
   "cell_type": "markdown",
   "metadata": {},
   "source": [
    "## Methods of Dict"
   ]
  },
  {
   "cell_type": "markdown",
   "metadata": {},
   "source": [
    "## .keys()"
   ]
  },
  {
   "cell_type": "code",
   "execution_count": 6,
   "metadata": {},
   "outputs": [
    {
     "data": {
      "text/plain": [
       "dict_keys([34, 58, 'istanbul', 'murtaza abi', ('ahmet', (8, 14)), 'james bond', ('ahmet', (1, 6)), ('ahmet', 7), 'karsiyaka', 'sinan'])"
      ]
     },
     "execution_count": 6,
     "metadata": {},
     "output_type": "execute_result"
    }
   ],
   "source": [
    "dict1.keys()"
   ]
  },
  {
   "cell_type": "code",
   "execution_count": 8,
   "metadata": {},
   "outputs": [
    {
     "name": "stdout",
     "output_type": "stream",
     "text": [
      "[34, 58, 'istanbul', 'murtaza abi', ('ahmet', (8, 14)), 'james bond', ('ahmet', (1, 6)), ('ahmet', 7), 'karsiyaka', 'sinan']\n"
     ]
    }
   ],
   "source": [
    "list_key = list(dict1.keys())\n",
    "print(list_key)"
   ]
  },
  {
   "cell_type": "markdown",
   "metadata": {},
   "source": [
    "## .values()"
   ]
  },
  {
   "cell_type": "code",
   "execution_count": 10,
   "metadata": {},
   "outputs": [
    {
     "data": {
      "text/plain": [
       "dict_values(['istanbul', 'sivas', [[7, 'tepeli', 'sehir'], (41.0383, 28.9703), 34, 15500000.0], 'sivas', 'almanya', 7, ['anne', 'anneanne'], 'sivas', 35.5, 'efe'])"
      ]
     },
     "execution_count": 10,
     "metadata": {},
     "output_type": "execute_result"
    }
   ],
   "source": [
    "dict1.values()"
   ]
  },
  {
   "cell_type": "code",
   "execution_count": 12,
   "metadata": {},
   "outputs": [
    {
     "name": "stdout",
     "output_type": "stream",
     "text": [
      "['istanbul', 'sivas', [[7, 'tepeli', 'sehir'], (41.0383, 28.9703), 34, 15500000.0], 'sivas', 'almanya', 7, ['anne', 'anneanne'], 'sivas', 35.5, 'efe']\n"
     ]
    }
   ],
   "source": [
    "list_values = list(dict1.values())\n",
    "print(list_values)"
   ]
  },
  {
   "cell_type": "markdown",
   "metadata": {},
   "source": [
    "## .items()  "
   ]
  },
  {
   "cell_type": "code",
   "execution_count": 14,
   "metadata": {},
   "outputs": [
    {
     "name": "stdout",
     "output_type": "stream",
     "text": [
      "[(34, 'istanbul'), (58, 'sivas'), ('istanbul', [[7, 'tepeli', 'sehir'], (41.0383, 28.9703), 34, 15500000.0]), ('murtaza abi', 'sivas'), (('ahmet', (8, 14)), 'almanya'), ('james bond', 7), (('ahmet', (1, 6)), ['anne', 'anneanne']), (('ahmet', 7), 'sivas'), ('karsiyaka', 35.5), ('sinan', 'efe')]\n"
     ]
    }
   ],
   "source": [
    "# Tuple olarak yazar\n",
    "dict1.items()\n",
    "print(list(dict1.items()))"
   ]
  },
  {
   "cell_type": "markdown",
   "metadata": {},
   "source": [
    "## .update() change dictionary"
   ]
  },
  {
   "cell_type": "code",
   "execution_count": 16,
   "metadata": {},
   "outputs": [
    {
     "name": "stdout",
     "output_type": "stream",
     "text": [
      "{'brand': 'Ford', 'model': 'Mustang', 'year': 2020}\n",
      "{'brand': 'Ford', 'model': 'Mustang', 'year': 2020, 'color': 'red'}\n"
     ]
    }
   ],
   "source": [
    "thisdict = {\n",
    "  \"brand\": \"Ford\",\n",
    "  \"model\": \"Mustang\",\n",
    "  \"year\": 1964\n",
    "}\n",
    "thisdict.update({\"year\": 2020})\n",
    "print(thisdict)\n",
    "thisdict.update({\"color\": \"red\"})\n",
    "print(thisdict)"
   ]
  },
  {
   "cell_type": "markdown",
   "metadata": {},
   "source": [
    "## .fromkeys()"
   ]
  },
  {
   "cell_type": "markdown",
   "metadata": {},
   "source": [
    "The fromkeys() method returns a dictionary with the specified keys and the specified value."
   ]
  },
  {
   "cell_type": "code",
   "execution_count": 17,
   "metadata": {},
   "outputs": [
    {
     "name": "stdout",
     "output_type": "stream",
     "text": [
      "{'key1': (1, 2, 3), 'key2': (1, 2, 3), 'key3': (1, 2, 3)}\n"
     ]
    }
   ],
   "source": [
    "x = (\"key1\",\"key2\",\"key3\")\n",
    "y = (1,2,3)\n",
    "dict2 = dict.fromkeys(x,y)\n",
    "print(dict2)"
   ]
  },
  {
   "cell_type": "markdown",
   "metadata": {},
   "source": [
    "# pop() at least one element "
   ]
  },
  {
   "cell_type": "code",
   "execution_count": 20,
   "metadata": {},
   "outputs": [],
   "source": [
    "\"\"\"The pop() method removes the specified item from the dictionary.\n",
    "\n",
    "The value of the removed item is the return value of the pop() method, see example below.\n",
    "\n",
    "\n",
    "dictionary.pop(keyname, defaultvalue)\"\"\";"
   ]
  },
  {
   "cell_type": "code",
   "execution_count": 21,
   "metadata": {},
   "outputs": [
    {
     "name": "stdout",
     "output_type": "stream",
     "text": [
      "{'brand': 'Ford', 'model': 'Mustang'}\n"
     ]
    }
   ],
   "source": [
    "dict2 = {\"brand\":\"Ford\",\"model\":\"Mustang\",\"year\":1964}\n",
    "dict2.pop(\"year\")\n",
    "print(dict2)"
   ]
  },
  {
   "cell_type": "code",
   "execution_count": null,
   "metadata": {},
   "outputs": [],
   "source": []
  }
 ],
 "metadata": {
  "interpreter": {
   "hash": "f3c9ee49ef745cb3d2e1358ce96b352233dd94eba74ee335fd313212cf40864b"
  },
  "kernelspec": {
   "display_name": "Python 3.10.4 32-bit",
   "language": "python",
   "name": "python3"
  },
  "language_info": {
   "codemirror_mode": {
    "name": "ipython",
    "version": 3
   },
   "file_extension": ".py",
   "mimetype": "text/x-python",
   "name": "python",
   "nbconvert_exporter": "python",
   "pygments_lexer": "ipython3",
   "version": "3.10.4"
  },
  "orig_nbformat": 4
 },
 "nbformat": 4,
 "nbformat_minor": 2
}
