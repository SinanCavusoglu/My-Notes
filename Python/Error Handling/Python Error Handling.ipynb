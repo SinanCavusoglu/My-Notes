{
 "cells": [
  {
   "cell_type": "code",
   "execution_count": 3,
   "metadata": {},
   "outputs": [],
   "source": [
    "\"\"\"\"\n",
    "AssertionError:\t    Raised when an assert statement fails.\n",
    "AttributeError:\t    Raised when attribute assignment or reference fails.\n",
    "EOFError:\t        Raised when the input() function hits end-of-file condition.\n",
    "FloatingPointError:\tRaised when a floating point operation fails.\n",
    "GeneratorExit:\t    Raise when a generator's close() method is called.\n",
    "ImportError:\t    Raised when the imported module is not found.\n",
    "IndexError:     \tRaised when the index of a sequence is out of range.\n",
    "KeyError:       \tRaised when a key is not found in a dictionary.\n",
    "KeyboardInterrupt:\tRaised when the user hits the interrupt key (Ctrl+C or Delete).\n",
    "MemoryError:    \tRaised when an operation runs out of memory.\n",
    "NameError:      \tRaised when a variable is not found in local or global scope.\n",
    "NotImplementedError:Raised by abstract methods.\n",
    "OSError:        \tRaised when system operation causes system related error.\n",
    "OverflowError:  \tRaised when the result of an arithmetic operation is too large to be represented.\n",
    "ReferenceError: \tRaised when a weak reference proxy is used to access a garbage collected referent.\n",
    "RuntimeError:   \tRaised when an error does not fall under any other category.\n",
    "StopIteration:  \tRaised by next() function to indicate that there is no further item to be returned by iterator.\n",
    "SyntaxError:    \tRaised by parser when syntax error is encountered.\n",
    "IndentationError:\tRaised when there is incorrect indentation.\n",
    "TabError:       \tRaised when indentation consists of inconsistent tabs and spaces.\n",
    "SystemError:    \tRaised when interpreter detects internal error.\n",
    "SystemExit:     \tRaised by sys.exit() function.\n",
    "TypeError:      \tRaised when a function or operation is applied to an object of incorrect type.\n",
    "UnboundLocalError:\tRaised when a reference is made to a local variable in a function or method, but no value has been bound to that variable.\n",
    "UnicodeError:   \tRaised when a Unicode-related encoding or decoding error occurs.\n",
    "UnicodeEncodeError:\tRaised when a Unicode-related error occurs during encoding.\n",
    "UnicodeDecodeError:\tRaised when a Unicode-related error occurs during decoding.\n",
    "UnicodeTranslateError:\tRaised when a Unicode-related error occurs during translating.\n",
    "ValueError:     \tRaised when a function gets an argument of correct type but improper value.\n",
    "ZeroDivisionError:\tRaised when the second operand of division or modulo operation is zero.\n",
    "\n",
    "\"\"\""
   ]
  },
  {
   "cell_type": "code",
   "execution_count": 4,
   "metadata": {},
   "outputs": [
    {
     "ename": "NameError",
     "evalue": "name 'a' is not defined",
     "output_type": "error",
     "traceback": [
      "\u001b[1;31m---------------------------------------------------------------------------\u001b[0m",
      "\u001b[1;31mNameError\u001b[0m                                 Traceback (most recent call last)",
      "\u001b[1;32mc:\\Users\\sinan\\OneDrive\\Masaüstü\\ceng240-master\\Python\\Python Error Handling.ipynb Cell 2'\u001b[0m in \u001b[0;36m<cell line: 1>\u001b[1;34m()\u001b[0m\n\u001b[1;32m----> <a href='vscode-notebook-cell:/c%3A/Users/sinan/OneDrive/Masa%C3%BCst%C3%BC/ceng240-master/Python/Python%20Error%20Handling.ipynb#ch0000000?line=0'>1</a>\u001b[0m \u001b[39mprint\u001b[39m(a)\n",
      "\u001b[1;31mNameError\u001b[0m: name 'a' is not defined"
     ]
    }
   ],
   "source": [
    "print(a)"
   ]
  },
  {
   "cell_type": "code",
   "execution_count": 5,
   "metadata": {},
   "outputs": [
    {
     "ename": "ValueError",
     "evalue": "invalid literal for int() with base 10: 'asdf123'",
     "output_type": "error",
     "traceback": [
      "\u001b[1;31m---------------------------------------------------------------------------\u001b[0m",
      "\u001b[1;31mValueError\u001b[0m                                Traceback (most recent call last)",
      "\u001b[1;32mc:\\Users\\sinan\\OneDrive\\Masaüstü\\ceng240-master\\Python\\Python Error Handling.ipynb Cell 3'\u001b[0m in \u001b[0;36m<cell line: 1>\u001b[1;34m()\u001b[0m\n\u001b[1;32m----> <a href='vscode-notebook-cell:/c%3A/Users/sinan/OneDrive/Masa%C3%BCst%C3%BC/ceng240-master/Python/Python%20Error%20Handling.ipynb#ch0000003?line=0'>1</a>\u001b[0m \u001b[39mint\u001b[39;49m(\u001b[39m\"\u001b[39;49m\u001b[39masdf123\u001b[39;49m\u001b[39m\"\u001b[39;49m)\n",
      "\u001b[1;31mValueError\u001b[0m: invalid literal for int() with base 10: 'asdf123'"
     ]
    }
   ],
   "source": [
    "int(\"asdf123\")"
   ]
  },
  {
   "cell_type": "code",
   "execution_count": 6,
   "metadata": {},
   "outputs": [
    {
     "ename": "ZeroDivisionError",
     "evalue": "division by zero",
     "output_type": "error",
     "traceback": [
      "\u001b[1;31m---------------------------------------------------------------------------\u001b[0m",
      "\u001b[1;31mZeroDivisionError\u001b[0m                         Traceback (most recent call last)",
      "\u001b[1;32mc:\\Users\\sinan\\OneDrive\\Masaüstü\\ceng240-master\\Python\\Python Error Handling.ipynb Cell 4'\u001b[0m in \u001b[0;36m<cell line: 1>\u001b[1;34m()\u001b[0m\n\u001b[1;32m----> <a href='vscode-notebook-cell:/c%3A/Users/sinan/OneDrive/Masa%C3%BCst%C3%BC/ceng240-master/Python/Python%20Error%20Handling.ipynb#ch0000004?line=0'>1</a>\u001b[0m \u001b[39m6\u001b[39;49m \u001b[39m/\u001b[39;49m \u001b[39m0\u001b[39;49m\n",
      "\u001b[1;31mZeroDivisionError\u001b[0m: division by zero"
     ]
    }
   ],
   "source": [
    "6 / 0"
   ]
  },
  {
   "cell_type": "markdown",
   "metadata": {},
   "source": [
    "# Try, Except, Finally"
   ]
  },
  {
   "cell_type": "code",
   "execution_count": 7,
   "metadata": {},
   "outputs": [
    {
     "name": "stdout",
     "output_type": "stream",
     "text": [
      "Hata\n"
     ]
    }
   ],
   "source": [
    "try:\n",
    "    a = int(\"asdf\")\n",
    "except:\n",
    "    print(\"Hata\")"
   ]
  },
  {
   "cell_type": "code",
   "execution_count": 8,
   "metadata": {},
   "outputs": [
    {
     "ename": "ValueError",
     "evalue": "invalid literal for int() with base 10: 'asdf'",
     "output_type": "error",
     "traceback": [
      "\u001b[1;31m---------------------------------------------------------------------------\u001b[0m",
      "\u001b[1;31mValueError\u001b[0m                                Traceback (most recent call last)",
      "\u001b[1;32mc:\\Users\\sinan\\OneDrive\\Masaüstü\\ceng240-master\\Python\\Python Error Handling.ipynb Cell 7'\u001b[0m in \u001b[0;36m<cell line: 1>\u001b[1;34m()\u001b[0m\n\u001b[0;32m      <a href='vscode-notebook-cell:/c%3A/Users/sinan/OneDrive/Masa%C3%BCst%C3%BC/ceng240-master/Python/Python%20Error%20Handling.ipynb#ch0000009?line=0'>1</a>\u001b[0m \u001b[39mtry\u001b[39;00m:\n\u001b[1;32m----> <a href='vscode-notebook-cell:/c%3A/Users/sinan/OneDrive/Masa%C3%BCst%C3%BC/ceng240-master/Python/Python%20Error%20Handling.ipynb#ch0000009?line=1'>2</a>\u001b[0m     a \u001b[39m=\u001b[39m \u001b[39mint\u001b[39;49m(\u001b[39m\"\u001b[39;49m\u001b[39masdf\u001b[39;49m\u001b[39m\"\u001b[39;49m)\n\u001b[0;32m      <a href='vscode-notebook-cell:/c%3A/Users/sinan/OneDrive/Masa%C3%BCst%C3%BC/ceng240-master/Python/Python%20Error%20Handling.ipynb#ch0000009?line=2'>3</a>\u001b[0m \u001b[39mexcept\u001b[39;00m \u001b[39mNameError\u001b[39;00m :\n\u001b[0;32m      <a href='vscode-notebook-cell:/c%3A/Users/sinan/OneDrive/Masa%C3%BCst%C3%BC/ceng240-master/Python/Python%20Error%20Handling.ipynb#ch0000009?line=3'>4</a>\u001b[0m     \u001b[39mprint\u001b[39m(\u001b[39m\"\u001b[39m\u001b[39mHata\u001b[39m\u001b[39m\"\u001b[39m)\n",
      "\u001b[1;31mValueError\u001b[0m: invalid literal for int() with base 10: 'asdf'"
     ]
    }
   ],
   "source": [
    "try:\n",
    "    a = int(\"asdf\")\n",
    "except NameError :\n",
    "    print(\"Hata\")"
   ]
  },
  {
   "cell_type": "code",
   "execution_count": 9,
   "metadata": {},
   "outputs": [
    {
     "name": "stdout",
     "output_type": "stream",
     "text": [
      "Hata\n"
     ]
    }
   ],
   "source": [
    "try:\n",
    "    a = int(\"asdf\")\n",
    "except ValueError :\n",
    "    print(\"Hata\")"
   ]
  },
  {
   "cell_type": "code",
   "execution_count": 12,
   "metadata": {},
   "outputs": [
    {
     "name": "stdout",
     "output_type": "stream",
     "text": [
      "Error\n"
     ]
    }
   ],
   "source": [
    "try:\n",
    "    a = int(input())\n",
    "    b = int(input())\n",
    "    print(a/b)\n",
    "except (ValueError, ZeroDivisionError):\n",
    "    print(\"Error\")"
   ]
  },
  {
   "cell_type": "code",
   "execution_count": 13,
   "metadata": {},
   "outputs": [],
   "source": [
    "# finally always work "
   ]
  },
  {
   "cell_type": "code",
   "execution_count": 14,
   "metadata": {},
   "outputs": [
    {
     "name": "stdout",
     "output_type": "stream",
     "text": [
      "Error\n",
      "Always Work\n"
     ]
    }
   ],
   "source": [
    "try:\n",
    "    a = int(input())\n",
    "    b = int(input())\n",
    "    print(a/b)\n",
    "except (ValueError, ZeroDivisionError):\n",
    "    print(\"Error\")\n",
    "\n",
    "finally:\n",
    "    print(\"Always Work\")"
   ]
  },
  {
   "cell_type": "markdown",
   "metadata": {},
   "source": [
    "# Raise"
   ]
  },
  {
   "cell_type": "code",
   "execution_count": 20,
   "metadata": {},
   "outputs": [],
   "source": [
    "def sum(a,b):\n",
    "    if type(a) != int or type(b) != int:\n",
    "        raise TypeError(\"Doğru Gir Lan\")\n",
    "    return a+b"
   ]
  },
  {
   "cell_type": "code",
   "execution_count": 21,
   "metadata": {},
   "outputs": [
    {
     "ename": "TypeError",
     "evalue": "Doğru Gir Lan",
     "output_type": "error",
     "traceback": [
      "\u001b[1;31m---------------------------------------------------------------------------\u001b[0m",
      "\u001b[1;31mTypeError\u001b[0m                                 Traceback (most recent call last)",
      "\u001b[1;32mc:\\Users\\sinan\\OneDrive\\Masaüstü\\ceng240-master\\Python\\Python Error Handling.ipynb Cell 14'\u001b[0m in \u001b[0;36m<cell line: 1>\u001b[1;34m()\u001b[0m\n\u001b[1;32m----> <a href='vscode-notebook-cell:/c%3A/Users/sinan/OneDrive/Masa%C3%BCst%C3%BC/ceng240-master/Python/Python%20Error%20Handling.ipynb#ch0000016?line=0'>1</a>\u001b[0m \u001b[39msum\u001b[39;49m(\u001b[39m3\u001b[39;49m,\u001b[39m\"\u001b[39;49m\u001b[39ma\u001b[39;49m\u001b[39m\"\u001b[39;49m)\n",
      "\u001b[1;32mc:\\Users\\sinan\\OneDrive\\Masaüstü\\ceng240-master\\Python\\Python Error Handling.ipynb Cell 13'\u001b[0m in \u001b[0;36msum\u001b[1;34m(a, b)\u001b[0m\n\u001b[0;32m      <a href='vscode-notebook-cell:/c%3A/Users/sinan/OneDrive/Masa%C3%BCst%C3%BC/ceng240-master/Python/Python%20Error%20Handling.ipynb#ch0000014?line=0'>1</a>\u001b[0m \u001b[39mdef\u001b[39;00m \u001b[39msum\u001b[39m(a,b):\n\u001b[0;32m      <a href='vscode-notebook-cell:/c%3A/Users/sinan/OneDrive/Masa%C3%BCst%C3%BC/ceng240-master/Python/Python%20Error%20Handling.ipynb#ch0000014?line=1'>2</a>\u001b[0m     \u001b[39mif\u001b[39;00m \u001b[39mtype\u001b[39m(a) \u001b[39m!=\u001b[39m \u001b[39mint\u001b[39m \u001b[39mor\u001b[39;00m \u001b[39mtype\u001b[39m(b) \u001b[39m!=\u001b[39m \u001b[39mint\u001b[39m:\n\u001b[1;32m----> <a href='vscode-notebook-cell:/c%3A/Users/sinan/OneDrive/Masa%C3%BCst%C3%BC/ceng240-master/Python/Python%20Error%20Handling.ipynb#ch0000014?line=2'>3</a>\u001b[0m         \u001b[39mraise\u001b[39;00m \u001b[39mTypeError\u001b[39;00m(\u001b[39m\"\u001b[39m\u001b[39mDoğru Gir Lan\u001b[39m\u001b[39m\"\u001b[39m)\n\u001b[0;32m      <a href='vscode-notebook-cell:/c%3A/Users/sinan/OneDrive/Masa%C3%BCst%C3%BC/ceng240-master/Python/Python%20Error%20Handling.ipynb#ch0000014?line=3'>4</a>\u001b[0m     \u001b[39mreturn\u001b[39;00m a\u001b[39m+\u001b[39mb\n",
      "\u001b[1;31mTypeError\u001b[0m: Doğru Gir Lan"
     ]
    }
   ],
   "source": [
    "sum(3,\"a\")"
   ]
  },
  {
   "cell_type": "code",
   "execution_count": null,
   "metadata": {},
   "outputs": [],
   "source": []
  }
 ],
 "metadata": {
  "kernelspec": {
   "display_name": "Python 3.10.5 64-bit",
   "language": "python",
   "name": "python3"
  },
  "language_info": {
   "codemirror_mode": {
    "name": "ipython",
    "version": 3
   },
   "file_extension": ".py",
   "mimetype": "text/x-python",
   "name": "python",
   "nbconvert_exporter": "python",
   "pygments_lexer": "ipython3",
   "version": "3.10.5"
  },
  "orig_nbformat": 4,
  "vscode": {
   "interpreter": {
    "hash": "bca009232a060e6f9a4ada0b7f6575ed27685226172d06dbefa8cfd5d3793e55"
   }
  }
 },
 "nbformat": 4,
 "nbformat_minor": 2
}
