{
 "cells": [
  {
   "cell_type": "code",
   "execution_count": 1,
   "id": "442c69e0",
   "metadata": {},
   "outputs": [],
   "source": [
    "import numpy as np"
   ]
  },
  {
   "cell_type": "code",
   "execution_count": 2,
   "id": "375bec0d",
   "metadata": {},
   "outputs": [],
   "source": [
    "arr = np.arange(10)"
   ]
  },
  {
   "cell_type": "code",
   "execution_count": 3,
   "id": "0ead7621",
   "metadata": {},
   "outputs": [
    {
     "data": {
      "text/plain": [
       "array([0.        , 1.        , 1.41421356, 1.73205081, 2.        ,\n",
       "       2.23606798, 2.44948974, 2.64575131, 2.82842712, 3.        ])"
      ]
     },
     "execution_count": 3,
     "metadata": {},
     "output_type": "execute_result"
    }
   ],
   "source": [
    "np.sqrt(arr)"
   ]
  },
  {
   "cell_type": "code",
   "execution_count": 4,
   "id": "cab211b9",
   "metadata": {},
   "outputs": [
    {
     "data": {
      "text/plain": [
       "array([1.00000000e+00, 2.71828183e+00, 7.38905610e+00, 2.00855369e+01,\n",
       "       5.45981500e+01, 1.48413159e+02, 4.03428793e+02, 1.09663316e+03,\n",
       "       2.98095799e+03, 8.10308393e+03])"
      ]
     },
     "execution_count": 4,
     "metadata": {},
     "output_type": "execute_result"
    }
   ],
   "source": [
    "np.exp(arr)"
   ]
  },
  {
   "cell_type": "code",
   "execution_count": 5,
   "id": "693286f4",
   "metadata": {},
   "outputs": [],
   "source": [
    "x = np.random.randn(8)\n",
    "y = np.random.randn(8)"
   ]
  },
  {
   "cell_type": "code",
   "execution_count": 6,
   "id": "cf4d021d",
   "metadata": {},
   "outputs": [
    {
     "data": {
      "text/plain": [
       "array([ 1.71562262, -0.06764441, -0.45466696,  0.27973421,  0.95332356,\n",
       "       -0.40336841, -0.8671391 ,  0.09701743])"
      ]
     },
     "execution_count": 6,
     "metadata": {},
     "output_type": "execute_result"
    }
   ],
   "source": [
    "x"
   ]
  },
  {
   "cell_type": "code",
   "execution_count": 7,
   "id": "6b0579a3",
   "metadata": {
    "scrolled": true
   },
   "outputs": [
    {
     "data": {
      "text/plain": [
       "array([ 0.77044363, -0.71229954, -1.04761958,  0.26012527,  0.60461403,\n",
       "       -0.10536135,  0.33214302, -1.77934661])"
      ]
     },
     "execution_count": 7,
     "metadata": {},
     "output_type": "execute_result"
    }
   ],
   "source": [
    "y"
   ]
  },
  {
   "cell_type": "code",
   "execution_count": 8,
   "id": "2e6058a2",
   "metadata": {},
   "outputs": [
    {
     "data": {
      "text/plain": [
       "array([ 1.71562262, -0.06764441, -0.45466696,  0.27973421,  0.95332356,\n",
       "       -0.10536135,  0.33214302,  0.09701743])"
      ]
     },
     "execution_count": 8,
     "metadata": {},
     "output_type": "execute_result"
    }
   ],
   "source": [
    "np.maximum(x,y)"
   ]
  },
  {
   "cell_type": "code",
   "execution_count": 9,
   "id": "f126d19b",
   "metadata": {},
   "outputs": [
    {
     "data": {
      "text/plain": [
       "array([ 8.57811308, -0.33822207, -2.27333479,  1.39867103,  4.76661779,\n",
       "       -2.01684203, -4.33569552,  0.48508713])"
      ]
     },
     "execution_count": 9,
     "metadata": {},
     "output_type": "execute_result"
    }
   ],
   "source": [
    "x * 5"
   ]
  },
  {
   "cell_type": "code",
   "execution_count": 11,
   "id": "ce29f44d",
   "metadata": {},
   "outputs": [
    {
     "data": {
      "text/plain": [
       "(array([ 0.71562262, -0.06764441, -0.45466696,  0.27973421,  0.95332356,\n",
       "        -0.40336841, -0.8671391 ,  0.09701743]),\n",
       " array([ 1., -0., -0.,  0.,  0., -0., -0.,  0.]))"
      ]
     },
     "execution_count": 11,
     "metadata": {},
     "output_type": "execute_result"
    }
   ],
   "source": [
    "np.modf(x)"
   ]
  },
  {
   "cell_type": "code",
   "execution_count": 15,
   "id": "dba63f1d",
   "metadata": {},
   "outputs": [],
   "source": [
    "remainder, whole_part = np.modf(x)"
   ]
  },
  {
   "cell_type": "code",
   "execution_count": 16,
   "id": "9f062cbf",
   "metadata": {},
   "outputs": [
    {
     "data": {
      "text/plain": [
       "array([ 0.71562262, -0.06764441, -0.45466696,  0.27973421,  0.95332356,\n",
       "       -0.40336841, -0.8671391 ,  0.09701743])"
      ]
     },
     "execution_count": 16,
     "metadata": {},
     "output_type": "execute_result"
    }
   ],
   "source": [
    "remainder"
   ]
  },
  {
   "cell_type": "code",
   "execution_count": 17,
   "id": "4703a4e5",
   "metadata": {},
   "outputs": [
    {
     "data": {
      "text/plain": [
       "array([ 1., -0., -0.,  0.,  0., -0., -0.,  0.])"
      ]
     },
     "execution_count": 17,
     "metadata": {},
     "output_type": "execute_result"
    }
   ],
   "source": [
    "whole_part"
   ]
  },
  {
   "cell_type": "code",
   "execution_count": 18,
   "id": "6fdd170e",
   "metadata": {},
   "outputs": [
    {
     "data": {
      "text/plain": [
       "array([ 1.71562262, -0.06764441, -0.45466696,  0.27973421,  0.95332356,\n",
       "       -0.40336841, -0.8671391 ,  0.09701743])"
      ]
     },
     "execution_count": 18,
     "metadata": {},
     "output_type": "execute_result"
    }
   ],
   "source": [
    "x"
   ]
  },
  {
   "cell_type": "code",
   "execution_count": 19,
   "id": "a5b27d6a",
   "metadata": {},
   "outputs": [
    {
     "name": "stderr",
     "output_type": "stream",
     "text": [
      "C:\\Users\\sinan\\AppData\\Local\\Temp\\ipykernel_8272\\393099422.py:1: RuntimeWarning: invalid value encountered in sqrt\n",
      "  np.sqrt(x)\n"
     ]
    },
    {
     "data": {
      "text/plain": [
       "array([1.30981778,        nan,        nan, 0.52889905, 0.97638289,\n",
       "              nan,        nan, 0.3114762 ])"
      ]
     },
     "execution_count": 19,
     "metadata": {},
     "output_type": "execute_result"
    }
   ],
   "source": [
    "np.sqrt(x)"
   ]
  },
  {
   "cell_type": "markdown",
   "id": "1b821afb",
   "metadata": {},
   "source": [
    "<p><strong>abs, fabs:</strong> Compute the absolute value element-wise for integer, floating-point,or complex values<br>\n",
    "<strong>sqrt:</strong> Compute the square root of each element (equivalent to arr ** 0.5) <br>\n",
    "<strong>square:</strong> Compute the square of each element (equivalent to arr ** 2)<br>\n",
    "<strong>exp:</strong> Compute the exponent ex of each element<br>\n",
    "<strong>log, log10:</strong>, Natural logarithm (base e), log base 10, log base 2, and log(1 + x), respectively\n",
    "<br>\n",
    "<strong>sign:</strong> Compute the sign of each element: 1 (positive), 0 (zero), or –1 (negative)<br>\n",
    "<strong>ceil:</strong> Compute the ceiling of each element (i.e., the smallest integer greater than or equal to that\n",
    "number)<br>\n",
    "<strong>floor:</strong> Compute the floorof each element (i.e., the largest integer less than or equal to each element)\n",
    "<strong>rint:</strong> Round elements to the nearest integer, preserving the dtype <br>\n",
    "\n",
    "<strong>modf:</strong> Return fractional and integral parts of array as a separate array<br>\n",
    "<strong>isnan:</strong> Return boolean array indicating whether each value is NaN(Not a Number)<br>\n",
    "<strong>isfinite, isinf: </strong>Return boolean array indicating whether each element is finite(non-inf, non-NaN) or\n",
    "infinite,\n",
    "respectively <br>\n",
    "cos, cosh, sin, \n",
    "sinh, tan, tanh\n",
    "arccos, arccosh, \n",
    "arcsin, arcsinh,\n",
    "arctan, arctanh\n",
    "logical_not Compute truth value of not xelement-wise (equivalent to ~arr).</p>"
   ]
  },
  {
   "cell_type": "code",
   "execution_count": null,
   "id": "29756a1e",
   "metadata": {},
   "outputs": [],
   "source": []
  }
 ],
 "metadata": {
  "kernelspec": {
   "display_name": "Python 3 (ipykernel)",
   "language": "python",
   "name": "python3"
  },
  "language_info": {
   "codemirror_mode": {
    "name": "ipython",
    "version": 3
   },
   "file_extension": ".py",
   "mimetype": "text/x-python",
   "name": "python",
   "nbconvert_exporter": "python",
   "pygments_lexer": "ipython3",
   "version": "3.9.12"
  }
 },
 "nbformat": 4,
 "nbformat_minor": 5
}
