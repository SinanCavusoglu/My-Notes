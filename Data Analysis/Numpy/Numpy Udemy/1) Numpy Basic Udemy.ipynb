{
 "cells": [
  {
   "cell_type": "markdown",
   "id": "de159a7b",
   "metadata": {},
   "source": [
    "# NumPy Arrays"
   ]
  },
  {
   "cell_type": "code",
   "execution_count": 1,
   "id": "aa9ea493",
   "metadata": {},
   "outputs": [],
   "source": [
    "my_list = [1,2,3]"
   ]
  },
  {
   "cell_type": "code",
   "execution_count": 2,
   "id": "fce7bc48",
   "metadata": {},
   "outputs": [],
   "source": [
    "import numpy as np"
   ]
  },
  {
   "cell_type": "code",
   "execution_count": 3,
   "id": "7b41a7e1",
   "metadata": {},
   "outputs": [
    {
     "data": {
      "text/plain": [
       "array([1, 2, 3])"
      ]
     },
     "execution_count": 3,
     "metadata": {},
     "output_type": "execute_result"
    }
   ],
   "source": [
    "np.array(my_list) # 1 dimensional array (vector)"
   ]
  },
  {
   "cell_type": "code",
   "execution_count": 4,
   "id": "3748afcd",
   "metadata": {},
   "outputs": [],
   "source": [
    "matrix = [[1,2,3],[4,5,6],[7,8,9]]"
   ]
  },
  {
   "cell_type": "code",
   "execution_count": 5,
   "id": "280bf6cd",
   "metadata": {},
   "outputs": [
    {
     "data": {
      "text/plain": [
       "array([[1, 2, 3],\n",
       "       [4, 5, 6],\n",
       "       [7, 8, 9]])"
      ]
     },
     "execution_count": 5,
     "metadata": {},
     "output_type": "execute_result"
    }
   ],
   "source": [
    "np.array(matrix) # 2 dim array (matrix)"
   ]
  },
  {
   "cell_type": "code",
   "execution_count": 6,
   "id": "5cb02763",
   "metadata": {},
   "outputs": [
    {
     "data": {
      "text/plain": [
       "array([0, 1, 2, 3, 4, 5, 6, 7, 8, 9])"
      ]
     },
     "execution_count": 6,
     "metadata": {},
     "output_type": "execute_result"
    }
   ],
   "source": [
    "np.arange(0,10)    # 0 to 9  vector "
   ]
  },
  {
   "cell_type": "code",
   "execution_count": 7,
   "id": "f96a421b",
   "metadata": {},
   "outputs": [
    {
     "data": {
      "text/plain": [
       "array([ 0,  2,  4,  6,  8, 10, 12, 14, 16, 18])"
      ]
     },
     "execution_count": 7,
     "metadata": {},
     "output_type": "execute_result"
    }
   ],
   "source": [
    "np.arange(0,20,2) # 0 to 20 step 2"
   ]
  },
  {
   "cell_type": "code",
   "execution_count": 8,
   "id": "d5afbc98",
   "metadata": {},
   "outputs": [
    {
     "data": {
      "text/plain": [
       "array([0., 0., 0.])"
      ]
     },
     "execution_count": 8,
     "metadata": {},
     "output_type": "execute_result"
    }
   ],
   "source": [
    "np.zeros(3)  "
   ]
  },
  {
   "cell_type": "code",
   "execution_count": 9,
   "id": "7830915c",
   "metadata": {},
   "outputs": [
    {
     "data": {
      "text/plain": [
       "array([[0., 0., 0., 0., 0.],\n",
       "       [0., 0., 0., 0., 0.],\n",
       "       [0., 0., 0., 0., 0.],\n",
       "       [0., 0., 0., 0., 0.],\n",
       "       [0., 0., 0., 0., 0.]])"
      ]
     },
     "execution_count": 9,
     "metadata": {},
     "output_type": "execute_result"
    }
   ],
   "source": [
    "np.zeros((5,5))"
   ]
  },
  {
   "cell_type": "code",
   "execution_count": 10,
   "id": "64b81f13",
   "metadata": {},
   "outputs": [
    {
     "data": {
      "text/plain": [
       "array([[0., 0., 0.],\n",
       "       [0., 0., 0.]])"
      ]
     },
     "execution_count": 10,
     "metadata": {},
     "output_type": "execute_result"
    }
   ],
   "source": [
    "np.zeros((2,3))"
   ]
  },
  {
   "cell_type": "code",
   "execution_count": 11,
   "id": "c8e0d3aa",
   "metadata": {},
   "outputs": [
    {
     "data": {
      "text/plain": [
       "array([1., 1., 1., 1.])"
      ]
     },
     "execution_count": 11,
     "metadata": {},
     "output_type": "execute_result"
    }
   ],
   "source": [
    "np.ones(4)"
   ]
  },
  {
   "cell_type": "code",
   "execution_count": 12,
   "id": "88a99d54",
   "metadata": {},
   "outputs": [
    {
     "data": {
      "text/plain": [
       "array([[1., 1., 1., 1.],\n",
       "       [1., 1., 1., 1.],\n",
       "       [1., 1., 1., 1.]])"
      ]
     },
     "execution_count": 12,
     "metadata": {},
     "output_type": "execute_result"
    }
   ],
   "source": [
    "np.ones((3,4))"
   ]
  },
  {
   "cell_type": "code",
   "execution_count": 13,
   "id": "276a7c87",
   "metadata": {},
   "outputs": [
    {
     "data": {
      "text/plain": [
       "array([0.        , 0.55555556, 1.11111111, 1.66666667, 2.22222222,\n",
       "       2.77777778, 3.33333333, 3.88888889, 4.44444444, 5.        ])"
      ]
     },
     "execution_count": 13,
     "metadata": {},
     "output_type": "execute_result"
    }
   ],
   "source": [
    "np.linspace(0,5,10) # vector from 0 to 5 between 10"
   ]
  },
  {
   "cell_type": "code",
   "execution_count": 14,
   "id": "424f8426",
   "metadata": {},
   "outputs": [
    {
     "data": {
      "text/plain": [
       "array([ 1.,  2.,  3.,  4.,  5.,  6.,  7.,  8.,  9., 10.])"
      ]
     },
     "execution_count": 14,
     "metadata": {},
     "output_type": "execute_result"
    }
   ],
   "source": [
    "np.linspace(1,10,10) # 1 dim"
   ]
  },
  {
   "cell_type": "code",
   "execution_count": 15,
   "id": "24d7e762",
   "metadata": {},
   "outputs": [
    {
     "data": {
      "text/plain": [
       "array([[1., 0., 0., 0.],\n",
       "       [0., 1., 0., 0.],\n",
       "       [0., 0., 1., 0.],\n",
       "       [0., 0., 0., 1.]])"
      ]
     },
     "execution_count": 15,
     "metadata": {},
     "output_type": "execute_result"
    }
   ],
   "source": [
    "np.eye(4) # ıdentity matrix"
   ]
  },
  {
   "cell_type": "markdown",
   "id": "4b183dc0",
   "metadata": {},
   "source": [
    "# np.random.rand  \n",
    "\n",
    "<strong> Uniformly distributed values</strong>\n"
   ]
  },
  {
   "cell_type": "code",
   "execution_count": 16,
   "id": "37cc12b2",
   "metadata": {},
   "outputs": [
    {
     "data": {
      "text/plain": [
       "0.8032274998020702"
      ]
     },
     "execution_count": 16,
     "metadata": {},
     "output_type": "execute_result"
    }
   ],
   "source": [
    "np.random.rand()"
   ]
  },
  {
   "cell_type": "code",
   "execution_count": 17,
   "id": "031a8feb",
   "metadata": {},
   "outputs": [
    {
     "data": {
      "text/plain": [
       "array([0.75861612, 0.63246519, 0.12119889, 0.35294098, 0.18724059])"
      ]
     },
     "execution_count": 17,
     "metadata": {},
     "output_type": "execute_result"
    }
   ],
   "source": [
    "np.random.rand(5)     # random dist. [0,1) (Uniformly distributed values.) "
   ]
  },
  {
   "cell_type": "code",
   "execution_count": 18,
   "id": "ab458716",
   "metadata": {},
   "outputs": [
    {
     "data": {
      "text/plain": [
       "array([[0.57738942, 0.05802192, 0.26080396],\n",
       "       [0.61578933, 0.00210218, 0.68836013],\n",
       "       [0.1722056 , 0.31378632, 0.78363276]])"
      ]
     },
     "execution_count": 18,
     "metadata": {},
     "output_type": "execute_result"
    }
   ],
   "source": [
    "np.random.rand(3,3)  # 3x3 matrix with uniformly distr values"
   ]
  },
  {
   "cell_type": "markdown",
   "id": "c836685d",
   "metadata": {},
   "source": [
    "# np.random.randn\n",
    "\n",
    "<strong>Normally (Gaussian) distributed values.</strong>"
   ]
  },
  {
   "cell_type": "code",
   "execution_count": 19,
   "id": "07211316",
   "metadata": {},
   "outputs": [
    {
     "data": {
      "text/plain": [
       "-0.6136914059737044"
      ]
     },
     "execution_count": 19,
     "metadata": {},
     "output_type": "execute_result"
    }
   ],
   "source": [
    "np.random.randn()"
   ]
  },
  {
   "cell_type": "code",
   "execution_count": 20,
   "id": "49ce44ab",
   "metadata": {},
   "outputs": [
    {
     "data": {
      "text/plain": [
       "array([-0.8033439 ,  0.70105494,  2.86697772])"
      ]
     },
     "execution_count": 20,
     "metadata": {},
     "output_type": "execute_result"
    }
   ],
   "source": [
    "np.random.randn(3) # centered around 0 (randomly return number near to 0)"
   ]
  },
  {
   "cell_type": "code",
   "execution_count": 21,
   "id": "0c027806",
   "metadata": {},
   "outputs": [
    {
     "data": {
      "text/plain": [
       "array([[-0.52746386, -0.69014659, -0.90124143,  0.53715278,  0.15926489,\n",
       "         1.23057707],\n",
       "       [ 0.51189608,  1.28149139,  0.67929005, -0.27476791,  0.80084189,\n",
       "        -0.56810531],\n",
       "       [-1.19507254, -0.46224762, -0.44912835, -1.20076991,  0.00330678,\n",
       "        -0.18798252]])"
      ]
     },
     "execution_count": 21,
     "metadata": {},
     "output_type": "execute_result"
    }
   ],
   "source": [
    "np.random.randn(3,6)"
   ]
  },
  {
   "cell_type": "markdown",
   "id": "70783a4a",
   "metadata": {},
   "source": [
    "## np.random.randint"
   ]
  },
  {
   "cell_type": "code",
   "execution_count": 22,
   "id": "0a34c770",
   "metadata": {},
   "outputs": [
    {
     "data": {
      "text/plain": [
       "58"
      ]
     },
     "execution_count": 22,
     "metadata": {},
     "output_type": "execute_result"
    }
   ],
   "source": [
    "np.random.randint(1,100) #give number between 1 to 100 100 not included"
   ]
  },
  {
   "cell_type": "code",
   "execution_count": 23,
   "id": "5694e20e",
   "metadata": {},
   "outputs": [
    {
     "data": {
      "text/plain": [
       "array([43, 31, 38, 48, 94, 69, 40,  2, 70, 24])"
      ]
     },
     "execution_count": 23,
     "metadata": {},
     "output_type": "execute_result"
    }
   ],
   "source": [
    "np.random.randint(1,100,10) # 10 random number"
   ]
  },
  {
   "cell_type": "markdown",
   "id": "f16f7fba",
   "metadata": {},
   "source": [
    "# .reshape()"
   ]
  },
  {
   "cell_type": "code",
   "execution_count": 24,
   "id": "0fa5282b",
   "metadata": {},
   "outputs": [],
   "source": [
    "arr = np.arange(25)"
   ]
  },
  {
   "cell_type": "code",
   "execution_count": 25,
   "id": "f43b71c6",
   "metadata": {},
   "outputs": [
    {
     "data": {
      "text/plain": [
       "array([ 0,  1,  2,  3,  4,  5,  6,  7,  8,  9, 10, 11, 12, 13, 14, 15, 16,\n",
       "       17, 18, 19, 20, 21, 22, 23, 24])"
      ]
     },
     "execution_count": 25,
     "metadata": {},
     "output_type": "execute_result"
    }
   ],
   "source": [
    "arr"
   ]
  },
  {
   "cell_type": "code",
   "execution_count": 26,
   "id": "ca8cc646",
   "metadata": {},
   "outputs": [],
   "source": [
    "ranarr = np.random.randint(0,50,10)"
   ]
  },
  {
   "cell_type": "code",
   "execution_count": 27,
   "id": "3f59f212",
   "metadata": {},
   "outputs": [
    {
     "data": {
      "text/plain": [
       "array([39, 27, 33, 18, 16, 42, 18, 38,  6,  7])"
      ]
     },
     "execution_count": 27,
     "metadata": {},
     "output_type": "execute_result"
    }
   ],
   "source": [
    "ranarr"
   ]
  },
  {
   "cell_type": "code",
   "execution_count": 28,
   "id": "ec90a2be",
   "metadata": {},
   "outputs": [
    {
     "data": {
      "text/plain": [
       "array([[ 0,  1,  2,  3,  4],\n",
       "       [ 5,  6,  7,  8,  9],\n",
       "       [10, 11, 12, 13, 14],\n",
       "       [15, 16, 17, 18, 19],\n",
       "       [20, 21, 22, 23, 24]])"
      ]
     },
     "execution_count": 28,
     "metadata": {},
     "output_type": "execute_result"
    }
   ],
   "source": [
    "arr.reshape(5,5)  # make it 5x5 matrix"
   ]
  },
  {
   "cell_type": "code",
   "execution_count": 29,
   "id": "79c7970a",
   "metadata": {},
   "outputs": [
    {
     "data": {
      "text/plain": [
       "array([[39, 27],\n",
       "       [33, 18],\n",
       "       [16, 42],\n",
       "       [18, 38],\n",
       "       [ 6,  7]])"
      ]
     },
     "execution_count": 29,
     "metadata": {},
     "output_type": "execute_result"
    }
   ],
   "source": [
    "ranarr.reshape(5,2) # make it 5x2 matrix"
   ]
  },
  {
   "cell_type": "markdown",
   "id": "2d097601",
   "metadata": {},
   "source": [
    "# .max() and .min()"
   ]
  },
  {
   "cell_type": "code",
   "execution_count": 30,
   "id": "bd992d82",
   "metadata": {},
   "outputs": [
    {
     "data": {
      "text/plain": [
       "array([39, 27, 33, 18, 16, 42, 18, 38,  6,  7])"
      ]
     },
     "execution_count": 30,
     "metadata": {},
     "output_type": "execute_result"
    }
   ],
   "source": [
    "ranarr"
   ]
  },
  {
   "cell_type": "code",
   "execution_count": 31,
   "id": "635d80bc",
   "metadata": {},
   "outputs": [
    {
     "data": {
      "text/plain": [
       "42"
      ]
     },
     "execution_count": 31,
     "metadata": {},
     "output_type": "execute_result"
    }
   ],
   "source": [
    "ranarr.max()"
   ]
  },
  {
   "cell_type": "code",
   "execution_count": 32,
   "id": "1471da6f",
   "metadata": {},
   "outputs": [
    {
     "data": {
      "text/plain": [
       "6"
      ]
     },
     "execution_count": 32,
     "metadata": {},
     "output_type": "execute_result"
    }
   ],
   "source": [
    "ranarr.min()"
   ]
  },
  {
   "cell_type": "markdown",
   "id": "c1343083",
   "metadata": {},
   "source": [
    "# .argmax() .argmin()\n",
    "\n",
    "<strong>give max number index</strong>"
   ]
  },
  {
   "cell_type": "code",
   "execution_count": 33,
   "id": "fa1b1073",
   "metadata": {},
   "outputs": [
    {
     "data": {
      "text/plain": [
       "5"
      ]
     },
     "execution_count": 33,
     "metadata": {},
     "output_type": "execute_result"
    }
   ],
   "source": [
    "ranarr.argmax()"
   ]
  },
  {
   "cell_type": "code",
   "execution_count": 34,
   "id": "6d46e9b4",
   "metadata": {},
   "outputs": [],
   "source": [
    "ranarr1 = ranarr.reshape(2,5)"
   ]
  },
  {
   "cell_type": "code",
   "execution_count": 35,
   "id": "2c72ae21",
   "metadata": {},
   "outputs": [
    {
     "data": {
      "text/plain": [
       "array([[39, 27, 33, 18, 16],\n",
       "       [42, 18, 38,  6,  7]])"
      ]
     },
     "execution_count": 35,
     "metadata": {},
     "output_type": "execute_result"
    }
   ],
   "source": [
    "ranarr1"
   ]
  },
  {
   "cell_type": "code",
   "execution_count": 36,
   "id": "2f63ac40",
   "metadata": {},
   "outputs": [
    {
     "data": {
      "text/plain": [
       "5"
      ]
     },
     "execution_count": 36,
     "metadata": {},
     "output_type": "execute_result"
    }
   ],
   "source": [
    "ranarr1.argmax() # not changing"
   ]
  },
  {
   "cell_type": "markdown",
   "id": "febf083d",
   "metadata": {},
   "source": [
    "# .shape"
   ]
  },
  {
   "cell_type": "code",
   "execution_count": 37,
   "id": "6e5fd51c",
   "metadata": {},
   "outputs": [
    {
     "data": {
      "text/plain": [
       "(10,)"
      ]
     },
     "execution_count": 37,
     "metadata": {},
     "output_type": "execute_result"
    }
   ],
   "source": [
    "ranarr.shape"
   ]
  },
  {
   "cell_type": "code",
   "execution_count": 38,
   "id": "0dccd5f0",
   "metadata": {},
   "outputs": [
    {
     "data": {
      "text/plain": [
       "(2, 5)"
      ]
     },
     "execution_count": 38,
     "metadata": {},
     "output_type": "execute_result"
    }
   ],
   "source": [
    "ranarr1.shape"
   ]
  },
  {
   "cell_type": "code",
   "execution_count": 39,
   "id": "78a3911f",
   "metadata": {},
   "outputs": [],
   "source": [
    "ranarr2 = ranarr.reshape(10,1)"
   ]
  },
  {
   "cell_type": "code",
   "execution_count": 40,
   "id": "965ba22a",
   "metadata": {},
   "outputs": [
    {
     "data": {
      "text/plain": [
       "array([[39],\n",
       "       [27],\n",
       "       [33],\n",
       "       [18],\n",
       "       [16],\n",
       "       [42],\n",
       "       [18],\n",
       "       [38],\n",
       "       [ 6],\n",
       "       [ 7]])"
      ]
     },
     "execution_count": 40,
     "metadata": {},
     "output_type": "execute_result"
    }
   ],
   "source": [
    "ranarr2"
   ]
  },
  {
   "cell_type": "code",
   "execution_count": 41,
   "id": "167a4874",
   "metadata": {},
   "outputs": [
    {
     "data": {
      "text/plain": [
       "(10, 1)"
      ]
     },
     "execution_count": 41,
     "metadata": {},
     "output_type": "execute_result"
    }
   ],
   "source": [
    "ranarr2.shape"
   ]
  },
  {
   "cell_type": "code",
   "execution_count": 42,
   "id": "f45264aa",
   "metadata": {},
   "outputs": [
    {
     "data": {
      "text/plain": [
       "dtype('int32')"
      ]
     },
     "execution_count": 42,
     "metadata": {},
     "output_type": "execute_result"
    }
   ],
   "source": [
    "arr.dtype"
   ]
  },
  {
   "cell_type": "code",
   "execution_count": 44,
   "id": "9902d607",
   "metadata": {},
   "outputs": [],
   "source": [
    "from numpy.random import randint"
   ]
  },
  {
   "cell_type": "code",
   "execution_count": 45,
   "id": "a18d7afa",
   "metadata": {},
   "outputs": [
    {
     "data": {
      "text/plain": [
       "6"
      ]
     },
     "execution_count": 45,
     "metadata": {},
     "output_type": "execute_result"
    }
   ],
   "source": [
    "randint(2,10)"
   ]
  },
  {
   "cell_type": "code",
   "execution_count": null,
   "id": "4d968971",
   "metadata": {},
   "outputs": [],
   "source": []
  }
 ],
 "metadata": {
  "kernelspec": {
   "display_name": "Python 3 (ipykernel)",
   "language": "python",
   "name": "python3"
  },
  "language_info": {
   "codemirror_mode": {
    "name": "ipython",
    "version": 3
   },
   "file_extension": ".py",
   "mimetype": "text/x-python",
   "name": "python",
   "nbconvert_exporter": "python",
   "pygments_lexer": "ipython3",
   "version": "3.9.12"
  }
 },
 "nbformat": 4,
 "nbformat_minor": 5
}
