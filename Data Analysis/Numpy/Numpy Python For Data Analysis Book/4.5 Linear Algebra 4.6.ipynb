{
 "cells": [
  {
   "cell_type": "code",
   "execution_count": 2,
   "id": "750611d0",
   "metadata": {},
   "outputs": [],
   "source": [
    "import numpy as np"
   ]
  },
  {
   "cell_type": "code",
   "execution_count": 3,
   "id": "cd4d7b48",
   "metadata": {},
   "outputs": [
    {
     "data": {
      "text/plain": [
       "array([[ 28,  64],\n",
       "       [ 67, 181]])"
      ]
     },
     "execution_count": 3,
     "metadata": {},
     "output_type": "execute_result"
    }
   ],
   "source": [
    "x = np.array([[1,2,3],[4,5,6]])\n",
    "y = np.array([[6,23],[-1,7],[8,9]])\n",
    "np.dot(x,y)"
   ]
  },
  {
   "cell_type": "code",
   "execution_count": 5,
   "id": "58b64cb0",
   "metadata": {},
   "outputs": [
    {
     "data": {
      "text/plain": [
       "array([[ 28,  64],\n",
       "       [ 67, 181]])"
      ]
     },
     "execution_count": 5,
     "metadata": {},
     "output_type": "execute_result"
    }
   ],
   "source": [
    "x @ y  # also this is work"
   ]
  },
  {
   "cell_type": "code",
   "execution_count": 6,
   "id": "4ed94808",
   "metadata": {},
   "outputs": [],
   "source": [
    "from numpy.linalg import inv,qr"
   ]
  },
  {
   "cell_type": "code",
   "execution_count": 7,
   "id": "0dc006ba",
   "metadata": {},
   "outputs": [],
   "source": [
    "X = np.random.randn(5,5)"
   ]
  },
  {
   "cell_type": "code",
   "execution_count": 8,
   "id": "ee13b2b7",
   "metadata": {},
   "outputs": [
    {
     "data": {
      "text/plain": [
       "array([[-1.16905832,  1.13505004, -2.1032475 , -0.94483295,  0.84472014],\n",
       "       [ 0.15808097,  0.34369377, -0.7777937 , -0.86363804,  1.69916739],\n",
       "       [ 0.22297822,  0.29280956,  0.7308527 ,  0.74673668, -0.94537061],\n",
       "       [ 0.40070432, -2.27557108,  0.08277414, -0.17200085,  0.37150251],\n",
       "       [-0.11614284, -2.00343619, -1.08179153,  1.14403099, -2.04390896]])"
      ]
     },
     "execution_count": 8,
     "metadata": {},
     "output_type": "execute_result"
    }
   ],
   "source": [
    "X"
   ]
  },
  {
   "cell_type": "code",
   "execution_count": 10,
   "id": "824d7e23",
   "metadata": {},
   "outputs": [],
   "source": [
    "mat = X.T.dot(X) #np.dot(X.T,X)"
   ]
  },
  {
   "cell_type": "code",
   "execution_count": 11,
   "id": "7681bdcf",
   "metadata": {},
   "outputs": [
    {
     "data": {
      "text/plain": [
       "array([[ 111.4372742 ,   16.13626391,  -18.56099385, -169.28400372,\n",
       "        -107.91172108],\n",
       "       [  16.13626391,    2.47679981,   -2.77155978,  -24.02077759,\n",
       "         -15.41242023],\n",
       "       [ -18.56099385,   -2.77155978,    3.54105885,   26.33293865,\n",
       "          16.95938482],\n",
       "       [-169.28400372,  -24.02077759,   26.33293865,  268.9393437 ,\n",
       "         170.53470457],\n",
       "       [-107.91172108,  -15.41242023,   16.95938482,  170.53470457,\n",
       "         108.35328951]])"
      ]
     },
     "execution_count": 11,
     "metadata": {},
     "output_type": "execute_result"
    }
   ],
   "source": [
    "inv(mat)"
   ]
  },
  {
   "cell_type": "code",
   "execution_count": 13,
   "id": "7f48a6d5",
   "metadata": {},
   "outputs": [
    {
     "data": {
      "text/plain": [
       "array([[ 1.00000000e+00, -1.77635684e-14,  8.88178420e-15,\n",
       "         9.94759830e-14,  4.26325641e-14],\n",
       "       [ 5.68434189e-14,  1.00000000e+00,  0.00000000e+00,\n",
       "         1.13686838e-13,  5.68434189e-14],\n",
       "       [-2.84217094e-14,  0.00000000e+00,  1.00000000e+00,\n",
       "         0.00000000e+00,  2.84217094e-14],\n",
       "       [ 0.00000000e+00,  0.00000000e+00,  0.00000000e+00,\n",
       "         1.00000000e+00,  0.00000000e+00],\n",
       "       [-2.27373675e-13,  0.00000000e+00,  2.84217094e-14,\n",
       "         2.27373675e-13,  1.00000000e+00]])"
      ]
     },
     "execution_count": 13,
     "metadata": {},
     "output_type": "execute_result"
    }
   ],
   "source": [
    "mat.dot(inv(mat))"
   ]
  },
  {
   "cell_type": "code",
   "execution_count": 15,
   "id": "6179ead2",
   "metadata": {},
   "outputs": [],
   "source": [
    "q, r = qr(mat) #QR Fac"
   ]
  },
  {
   "cell_type": "markdown",
   "id": "f0894c73",
   "metadata": {},
   "source": [
    "<strong>diag:</strong> Return the diagonal (or off-diagonal)elements of a square matrix as a 1D array, or convert a 1D array into a square\n",
    "matrix with zeros on the off-diagonal<br>\n",
    "<strong>dot:</strong> Matrix multiplication<br>\n",
    "<strong>trace:</strong> Compute the sum of the diagonal elements\n",
    "det Compute the matrix determinant"
   ]
  },
  {
   "cell_type": "markdown",
   "id": "b383ad3e",
   "metadata": {},
   "source": [
    "## 4.6 Pseudorandom Number Generation"
   ]
  },
  {
   "cell_type": "markdown",
   "id": "429361b2",
   "metadata": {},
   "source": [
    "<strong>seed:</strong> Seed the random number generator permutation Return a random permutation of a sequence, or return a\n",
    "permuted range<br>\n",
    "<strong>shuffle</strong> Randomly permute a sequence in-place<br>\n",
    "<strong>rand</strong> Draw samples from a uniform distribution<br>\n",
    "<strong>randint</strong> Draw random integers from a given low-to-high range<br>\n",
    "<strong>randn</strong> Draw samples from a normal distribution with mean 0 and standard deviation 1 (MATLAB-like interface)<br>\n",
    "<strong>binomial</strong> Draw samples from a binomial distribution<br>\n",
    "<strong>normal</strong> Draw samples from a normal (Gaussian) distribution<br>\n",
    "<strong>beta</strong> Draw samples from a beta distribution<br>\n",
    "<strong>chisquare</strong>\n",
    "Draw samples from a chi-square distribution<br>\n",
    "<strong>gamma</strong> Draw samples from a gamma distribution<br>\n",
    "<strong>uniform</strong> Draw samples from a uniform [0, 1) distribution"
   ]
  },
  {
   "cell_type": "code",
   "execution_count": null,
   "id": "a21ae626",
   "metadata": {},
   "outputs": [],
   "source": []
  }
 ],
 "metadata": {
  "kernelspec": {
   "display_name": "Python 3 (ipykernel)",
   "language": "python",
   "name": "python3"
  },
  "language_info": {
   "codemirror_mode": {
    "name": "ipython",
    "version": 3
   },
   "file_extension": ".py",
   "mimetype": "text/x-python",
   "name": "python",
   "nbconvert_exporter": "python",
   "pygments_lexer": "ipython3",
   "version": "3.9.12"
  }
 },
 "nbformat": 4,
 "nbformat_minor": 5
}
