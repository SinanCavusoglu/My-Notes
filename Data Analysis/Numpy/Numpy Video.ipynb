{
 "cells": [
  {
   "cell_type": "markdown",
   "id": "bbece3ac",
   "metadata": {},
   "source": [
    " <p>Python-Data-Science-and-Machine-Learning-Bootcamp</p>"
   ]
  },
  {
   "cell_type": "code",
   "execution_count": null,
   "id": "9371abb9",
   "metadata": {},
   "outputs": [],
   "source": []
  }
 ],
 "metadata": {
  "kernelspec": {
   "display_name": "Python 3 (ipykernel)",
   "language": "python",
   "name": "python3"
  },
  "language_info": {
   "codemirror_mode": {
    "name": "ipython",
    "version": 3
   },
   "file_extension": ".py",
   "mimetype": "text/x-python",
   "name": "python",
   "nbconvert_exporter": "python",
   "pygments_lexer": "ipython3",
   "version": "3.9.12"
  }
 },
 "nbformat": 4,
 "nbformat_minor": 5
}
