{
 "cells": [
  {
   "cell_type": "markdown",
   "id": "51c5c128",
   "metadata": {},
   "source": [
    "**read_csv:** Load delimited data from a file, URL, or file-like object; use comma as default delimiter<br>\n",
    "**read_table:** Load delimited data from a file, URL, or file-like object; use tab ('\\t') as default delimiter<br>\n",
    "**read_fwf:** Read data in fixed-width column format (i.e., no delimiters)<br>\n",
    "**read_clipboard:** Version of read_table that reads data from the clipboard; useful for converting tables from web\n",
    "pages<br>\n",
    "**read_excel:** Read tabular data from an Excel XLS or XLSX file<br>\n",
    "**read_hdf:** Read HDF5 files written by pandas<br>\n",
    "**read_html:** Read all tables found in the given HTML document<br>\n",
    "**read_json:**. Read data from a JSON (JavaScript Object Notation) string representation<br>\n",
    "**read_msgpack:** Read pandas data encoded using the MessagePack binary format<br>\n",
    "**read_pickle:** Read an arbitrary object stored in Python pickle format<br>"
   ]
  },
  {
   "cell_type": "code",
   "execution_count": null,
   "id": "3f58a732",
   "metadata": {},
   "outputs": [],
   "source": []
  }
 ],
 "metadata": {
  "kernelspec": {
   "display_name": "Python 3 (ipykernel)",
   "language": "python",
   "name": "python3"
  },
  "language_info": {
   "codemirror_mode": {
    "name": "ipython",
    "version": 3
   },
   "file_extension": ".py",
   "mimetype": "text/x-python",
   "name": "python",
   "nbconvert_exporter": "python",
   "pygments_lexer": "ipython3",
   "version": "3.9.12"
  }
 },
 "nbformat": 4,
 "nbformat_minor": 5
}
