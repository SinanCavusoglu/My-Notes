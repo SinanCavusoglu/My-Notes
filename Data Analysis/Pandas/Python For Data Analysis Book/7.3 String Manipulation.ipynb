{
 "cells": [
  {
   "cell_type": "markdown",
   "id": "38a92bce",
   "metadata": {},
   "source": [
    "## String Object Methods"
   ]
  },
  {
   "cell_type": "code",
   "execution_count": 1,
   "id": "7b2dd51c",
   "metadata": {},
   "outputs": [],
   "source": [
    "# String method overview oku"
   ]
  },
  {
   "cell_type": "code",
   "execution_count": null,
   "id": "3c496b91",
   "metadata": {},
   "outputs": [],
   "source": []
  },
  {
   "cell_type": "markdown",
   "id": "bffaad79",
   "metadata": {},
   "source": [
    "### Regular Expressions"
   ]
  },
  {
   "cell_type": "code",
   "execution_count": 3,
   "id": "bea41d45",
   "metadata": {},
   "outputs": [],
   "source": [
    "import pandas as pd\n",
    "import numpy as np\n",
    "import re"
   ]
  },
  {
   "cell_type": "code",
   "execution_count": 7,
   "id": "21bf2a1e",
   "metadata": {},
   "outputs": [],
   "source": [
    "text = \"foo    bar\\t baz \\tqux  \\namam  \\tselam\""
   ]
  },
  {
   "cell_type": "code",
   "execution_count": 8,
   "id": "aa29773a",
   "metadata": {},
   "outputs": [
    {
     "data": {
      "text/plain": [
       "['foo', 'bar', 'baz', 'qux', 'amam', 'selam']"
      ]
     },
     "execution_count": 8,
     "metadata": {},
     "output_type": "execute_result"
    }
   ],
   "source": [
    "re.split(\"\\s+\",text)"
   ]
  },
  {
   "cell_type": "code",
   "execution_count": null,
   "id": "4f6fbdc0",
   "metadata": {},
   "outputs": [],
   "source": []
  },
  {
   "cell_type": "code",
   "execution_count": 10,
   "id": "40f5c8cd",
   "metadata": {},
   "outputs": [],
   "source": [
    "#compile"
   ]
  },
  {
   "cell_type": "code",
   "execution_count": 11,
   "id": "e56770a5",
   "metadata": {},
   "outputs": [],
   "source": [
    "regex = re.compile(\"\\s+\")"
   ]
  },
  {
   "cell_type": "code",
   "execution_count": 14,
   "id": "a68b63cd",
   "metadata": {},
   "outputs": [
    {
     "data": {
      "text/plain": [
       "['    ', '\\t ', ' \\t', '  \\n', '  \\t']"
      ]
     },
     "execution_count": 14,
     "metadata": {},
     "output_type": "execute_result"
    }
   ],
   "source": [
    "regex.findall(text)"
   ]
  },
  {
   "cell_type": "code",
   "execution_count": null,
   "id": "827b2324",
   "metadata": {},
   "outputs": [],
   "source": []
  },
  {
   "cell_type": "code",
   "execution_count": null,
   "id": "6b68af32",
   "metadata": {},
   "outputs": [],
   "source": [
    "#Oku çokkomelli"
   ]
  }
 ],
 "metadata": {
  "kernelspec": {
   "display_name": "Python 3 (ipykernel)",
   "language": "python",
   "name": "python3"
  },
  "language_info": {
   "codemirror_mode": {
    "name": "ipython",
    "version": 3
   },
   "file_extension": ".py",
   "mimetype": "text/x-python",
   "name": "python",
   "nbconvert_exporter": "python",
   "pygments_lexer": "ipython3",
   "version": "3.9.12"
  }
 },
 "nbformat": 4,
 "nbformat_minor": 5
}
