{
 "cells": [
  {
   "cell_type": "markdown",
   "metadata": {},
   "source": [
    "[LeetCode 217. Contains Duplicate](https://leetcode.com/problems/contains-duplicate/)"
   ]
  },
  {
   "cell_type": "code",
   "execution_count": null,
   "metadata": {},
   "outputs": [],
   "source": [
    "# Two Solutions\n",
    "def contains_duplicate1(nums):\n",
    "    nums.sort()\n",
    "    first = nums[0]\n",
    "    for i in range(1,len(nums)):\n",
    "        if first == nums[i]:\n",
    "            return True\n",
    "        else:\n",
    "            first = nums[i]\n",
    "    return False\n",
    "\n",
    "def contains_duplicate2(nums):\n",
    "    new_set = set()\n",
    "    for i in nums:\n",
    "        if i in new_set:\n",
    "            return True\n",
    "        else:\n",
    "            new_set.add(i)\n",
    "    return False"
   ]
  },
  {
   "cell_type": "code",
   "execution_count": null,
   "metadata": {},
   "outputs": [],
   "source": []
  }
 ],
 "metadata": {
  "language_info": {
   "name": "python"
  },
  "orig_nbformat": 4
 },
 "nbformat": 4,
 "nbformat_minor": 2
}
